{
 "cells": [
  {
   "cell_type": "code",
   "execution_count": 1,
   "id": "f9c8921c-6029-4b2c-b32d-cfb67886e011",
   "metadata": {},
   "outputs": [],
   "source": [
    "import pandas as pd\n",
    "import numpy as np\n",
    "import matplotlib.pyplot as plt"
   ]
  },
  {
   "cell_type": "markdown",
   "id": "d74b6179-c9a3-4b80-b943-80ed125d361c",
   "metadata": {},
   "source": [
    "## Data Preparation\n",
    "- wget https://archive.ics.uci.edu/static/public/222/bank+marketing.zip"
   ]
  },
  {
   "cell_type": "code",
   "execution_count": 3,
   "id": "0d1e05fe-e721-4e0f-b41c-cf95796a384e",
   "metadata": {},
   "outputs": [
    {
     "name": "stdout",
     "output_type": "stream",
     "text": [
      "Requirement already satisfied: wget in c:\\users\\daniel\\anaconda3\\lib\\site-packages (3.2)\n",
      "Note: you may need to restart the kernel to use updated packages.\n"
     ]
    }
   ],
   "source": [
    "pip install wget"
   ]
  },
  {
   "cell_type": "code",
   "execution_count": 4,
   "id": "0cdd191a-a004-48a8-9656-36cbe93a582f",
   "metadata": {},
   "outputs": [],
   "source": [
    "data = 'https://archive.ics.uci.edu/static/public/222/bank+marketing.zip'"
   ]
  },
  {
   "cell_type": "code",
   "execution_count": 5,
   "id": "7e1fa61e-fcc9-4ba5-8339-a1f89defcb2a",
   "metadata": {},
   "outputs": [
    {
     "name": "stdout",
     "output_type": "stream",
     "text": [
      "\n",
      "Saved under bank+marketing.zip\n"
     ]
    }
   ],
   "source": [
    "!python -m wget $data"
   ]
  },
  {
   "cell_type": "code",
   "execution_count": 6,
   "id": "3757f92b-ed70-4413-8373-b327c321a942",
   "metadata": {},
   "outputs": [],
   "source": [
    "from zipfile import ZipFile\n",
    "\n",
    "with ZipFile('bank+marketing.zip','r') as zipfile:\n",
    "   with ZipFile('bank.zip','r') as extrafile:\n",
    "        extrafile.extractall()"
   ]
  },
  {
   "cell_type": "code",
   "execution_count": 7,
   "id": "193794ce-9b46-48b3-ba8a-b2ad4c700927",
   "metadata": {},
   "outputs": [],
   "source": [
    "df = pd.read_csv('bank-full.csv',sep=';')"
   ]
  },
  {
   "cell_type": "markdown",
   "id": "283c01bf-90bf-4921-82b3-9b9ba505f29d",
   "metadata": {},
   "source": [
    "## Question 1\r\n",
    "\r\n",
    "What is the most frequent observation (mode) for the column `education`?\r\n",
    "- unknown\r\n",
    "- primary\r\n",
    "- secondary\r\n",
    "- tertiary\r\n",
    "tiary"
   ]
  },
  {
   "cell_type": "code",
   "execution_count": 9,
   "id": "2565e242-8724-402e-81a2-abc577359a06",
   "metadata": {},
   "outputs": [
    {
     "data": {
      "text/plain": [
       "education\n",
       "secondary    23202\n",
       "tertiary     13301\n",
       "primary       6851\n",
       "unknown       1857\n",
       "Name: count, dtype: int64"
      ]
     },
     "execution_count": 9,
     "metadata": {},
     "output_type": "execute_result"
    }
   ],
   "source": [
    "df.education.value_counts()"
   ]
  },
  {
   "cell_type": "code",
   "execution_count": 10,
   "id": "73a27cba-2346-4e22-ba5c-1b5626ca39e8",
   "metadata": {},
   "outputs": [
    {
     "data": {
      "text/plain": [
       "0    secondary\n",
       "Name: education, dtype: object"
      ]
     },
     "execution_count": 10,
     "metadata": {},
     "output_type": "execute_result"
    }
   ],
   "source": [
    "df.education.mode()"
   ]
  },
  {
   "cell_type": "markdown",
   "id": "932464c5-bfd0-4b76-84e7-b3134b010cb1",
   "metadata": {},
   "source": [
    "## Question 2\r\n",
    "\r\n",
    "Create the correlation matrix for the numerical features of your dataset. In a correlation matrix, you compute the correlation coefficient between every pair of features.\r\n",
    "\r\n",
    "What are the two features that have the biggest correlation?\r\n",
    "- age and balance\r\n",
    "- day and campaign\r\n",
    "- day and pdays\r\n",
    "- pdays and previous\r\n"
   ]
  },
  {
   "cell_type": "markdown",
   "id": "72044e56-f710-4c69-9153-e1d4f1764018",
   "metadata": {},
   "source": [
    "Cleaning data"
   ]
  },
  {
   "cell_type": "code",
   "execution_count": 13,
   "id": "29d9c8c0-043f-42e7-8309-23ab4a936e8f",
   "metadata": {},
   "outputs": [],
   "source": [
    "# Clean dataset\n",
    "df.columns = df.columns.str.lower().str.replace(' ', '_')\n",
    "\n",
    "categorical_columns = list(df.dtypes[df.dtypes == 'object'].index)\n",
    "\n",
    "for c in categorical_columns:\n",
    "    df[c] = df[c].str.lower().str.replace(' ', '_')"
   ]
  },
  {
   "cell_type": "code",
   "execution_count": 14,
   "id": "ed60faaf-d36f-4cd3-902a-ee5d893c08c0",
   "metadata": {},
   "outputs": [
    {
     "data": {
      "text/plain": [
       "Index(['age', 'job', 'marital', 'education', 'default', 'balance', 'housing',\n",
       "       'loan', 'contact', 'day', 'month', 'duration', 'campaign', 'pdays',\n",
       "       'previous', 'poutcome', 'y'],\n",
       "      dtype='object')"
      ]
     },
     "execution_count": 14,
     "metadata": {},
     "output_type": "execute_result"
    }
   ],
   "source": [
    "df.columns"
   ]
  },
  {
   "cell_type": "code",
   "execution_count": 15,
   "id": "02fdfa66-4d5c-4953-8425-bbf74932653f",
   "metadata": {},
   "outputs": [],
   "source": [
    "# Null value count"
   ]
  },
  {
   "cell_type": "code",
   "execution_count": 16,
   "id": "11ccf453-0944-4603-9402-662d4e703967",
   "metadata": {},
   "outputs": [
    {
     "data": {
      "text/plain": [
       "age          0\n",
       "job          0\n",
       "marital      0\n",
       "education    0\n",
       "default      0\n",
       "balance      0\n",
       "housing      0\n",
       "loan         0\n",
       "contact      0\n",
       "day          0\n",
       "month        0\n",
       "duration     0\n",
       "campaign     0\n",
       "pdays        0\n",
       "previous     0\n",
       "poutcome     0\n",
       "y            0\n",
       "dtype: int64"
      ]
     },
     "execution_count": 16,
     "metadata": {},
     "output_type": "execute_result"
    }
   ],
   "source": [
    "df.isnull().sum()"
   ]
  },
  {
   "cell_type": "code",
   "execution_count": 17,
   "id": "704f80b6-f5a1-4410-82a9-732c7c890c26",
   "metadata": {},
   "outputs": [
    {
     "data": {
      "text/plain": [
       "['age', 'balance', 'day', 'duration', 'campaign', 'pdays', 'previous']"
      ]
     },
     "execution_count": 17,
     "metadata": {},
     "output_type": "execute_result"
    }
   ],
   "source": [
    "numerical_features = list(df.dtypes[df.dtypes == 'int64'].index)\n",
    "numerical_features"
   ]
  },
  {
   "cell_type": "code",
   "execution_count": 18,
   "id": "3202e676-78d0-4fe9-a4d6-3a51c959ebd1",
   "metadata": {},
   "outputs": [
    {
     "data": {
      "text/plain": [
       "y\n",
       "no     39922\n",
       "yes     5289\n",
       "Name: count, dtype: int64"
      ]
     },
     "execution_count": 18,
     "metadata": {},
     "output_type": "execute_result"
    }
   ],
   "source": [
    "df.y.value_counts()"
   ]
  },
  {
   "cell_type": "code",
   "execution_count": 19,
   "id": "4950d1fc-3d82-417c-9a43-4fa000ccbf13",
   "metadata": {},
   "outputs": [
    {
     "data": {
      "text/plain": [
       "0        0\n",
       "1        0\n",
       "2        0\n",
       "3        0\n",
       "4        0\n",
       "        ..\n",
       "45206    1\n",
       "45207    1\n",
       "45208    1\n",
       "45209    0\n",
       "45210    0\n",
       "Name: y, Length: 45211, dtype: int32"
      ]
     },
     "execution_count": 19,
     "metadata": {},
     "output_type": "execute_result"
    }
   ],
   "source": [
    "df.y = (df.y == 'yes').astype('int')\n",
    "df.y"
   ]
  },
  {
   "cell_type": "markdown",
   "id": "ea1ff27c-5751-41ea-af1f-1af70ca733a2",
   "metadata": {},
   "source": [
    "Splitting data"
   ]
  },
  {
   "cell_type": "code",
   "execution_count": 21,
   "id": "c68792d3-7b8a-4411-8c7a-3544d5db7b03",
   "metadata": {},
   "outputs": [],
   "source": [
    "# Splitting dataset\n",
    "from sklearn.model_selection import train_test_split"
   ]
  },
  {
   "cell_type": "code",
   "execution_count": 22,
   "id": "52dea6c7-0e3f-4f9d-b0d1-1522893c3fab",
   "metadata": {},
   "outputs": [],
   "source": [
    "df_full_train,df_test = train_test_split(df,test_size=0.2,random_state=42)\n",
    "df_train,df_val = train_test_split(df_full_train,test_size=0.25,random_state=42)"
   ]
  },
  {
   "cell_type": "code",
   "execution_count": 23,
   "id": "7d781ba5-909d-4580-a5c3-3637281b7150",
   "metadata": {},
   "outputs": [],
   "source": [
    "df_train = df_train.reset_index(drop=True)\n",
    "df_val = df_val.reset_index(drop=True)\n",
    "df_test = df_test.reset_index(drop=True)"
   ]
  },
  {
   "cell_type": "code",
   "execution_count": 24,
   "id": "b61dfffc-8166-467e-b3a9-bafd73805056",
   "metadata": {},
   "outputs": [],
   "source": [
    "y_full_train = df_full_train.y.values\n",
    "y_train = df_train.y.values\n",
    "y_val = df_val.y.values\n",
    "y_test = df_test.y.values"
   ]
  },
  {
   "cell_type": "code",
   "execution_count": 25,
   "id": "4225ee21-73fd-4a84-af51-79f88e61e7d3",
   "metadata": {},
   "outputs": [],
   "source": [
    "df_train.drop(columns='y',inplace=True)\n",
    "df_val.drop(columns='y',inplace=True)\n",
    "df_test.drop(columns='y',inplace=True)"
   ]
  },
  {
   "cell_type": "code",
   "execution_count": 26,
   "id": "8fe65acf-9558-4b80-9924-ac48f48f7da1",
   "metadata": {},
   "outputs": [
    {
     "data": {
      "text/plain": [
       "0"
      ]
     },
     "execution_count": 26,
     "metadata": {},
     "output_type": "execute_result"
    }
   ],
   "source": [
    "df.y.isnull().sum()"
   ]
  },
  {
   "cell_type": "code",
   "execution_count": 27,
   "id": "9cad5327-596e-4827-91c7-4c1c34fe1bf4",
   "metadata": {},
   "outputs": [
    {
     "data": {
      "text/plain": [
       "age         0\n",
       "balance     0\n",
       "day         0\n",
       "duration    0\n",
       "campaign    0\n",
       "pdays       0\n",
       "previous    0\n",
       "dtype: int64"
      ]
     },
     "execution_count": 27,
     "metadata": {},
     "output_type": "execute_result"
    }
   ],
   "source": [
    "df_full_train[numerical_features].isnull().sum()"
   ]
  },
  {
   "cell_type": "code",
   "execution_count": 28,
   "id": "54ac2405-7e1b-4acb-9545-b3d28e5ed0ef",
   "metadata": {},
   "outputs": [
    {
     "data": {
      "text/plain": [
       "age           77\n",
       "balance     6652\n",
       "day           31\n",
       "duration    1493\n",
       "campaign      47\n",
       "pdays        529\n",
       "previous      40\n",
       "dtype: int64"
      ]
     },
     "execution_count": 28,
     "metadata": {},
     "output_type": "execute_result"
    }
   ],
   "source": [
    "df_full_train[numerical_features].nunique()"
   ]
  },
  {
   "cell_type": "code",
   "execution_count": 38,
   "id": "6495bedf-ac67-4959-b410-b8b38772249c",
   "metadata": {
    "scrolled": true
   },
   "outputs": [],
   "source": [
    "# Correlation matrix\n",
    "correlation_matrix = df_full_train[numerical_features].corr()\n",
    "abs_corr_matrix = correlation_matrix.abs()"
   ]
  },
  {
   "cell_type": "code",
   "execution_count": 44,
   "id": "71923fac-3af2-4812-88ee-0783664304e9",
   "metadata": {},
   "outputs": [
    {
     "data": {
      "text/html": [
       "<div>\n",
       "<style scoped>\n",
       "    .dataframe tbody tr th:only-of-type {\n",
       "        vertical-align: middle;\n",
       "    }\n",
       "\n",
       "    .dataframe tbody tr th {\n",
       "        vertical-align: top;\n",
       "    }\n",
       "\n",
       "    .dataframe thead th {\n",
       "        text-align: right;\n",
       "    }\n",
       "</style>\n",
       "<table border=\"1\" class=\"dataframe\">\n",
       "  <thead>\n",
       "    <tr style=\"text-align: right;\">\n",
       "      <th></th>\n",
       "      <th>age</th>\n",
       "      <th>balance</th>\n",
       "      <th>day</th>\n",
       "      <th>duration</th>\n",
       "      <th>campaign</th>\n",
       "      <th>pdays</th>\n",
       "      <th>previous</th>\n",
       "    </tr>\n",
       "  </thead>\n",
       "  <tbody>\n",
       "    <tr>\n",
       "      <th>age</th>\n",
       "      <td>1.000000</td>\n",
       "      <td>0.098921</td>\n",
       "      <td>-0.007882</td>\n",
       "      <td>-0.007414</td>\n",
       "      <td>0.003160</td>\n",
       "      <td>-0.023231</td>\n",
       "      <td>0.002397</td>\n",
       "    </tr>\n",
       "    <tr>\n",
       "      <th>balance</th>\n",
       "      <td>0.098921</td>\n",
       "      <td>1.000000</td>\n",
       "      <td>0.000455</td>\n",
       "      <td>0.025590</td>\n",
       "      <td>-0.018566</td>\n",
       "      <td>0.002122</td>\n",
       "      <td>0.015291</td>\n",
       "    </tr>\n",
       "    <tr>\n",
       "      <th>day</th>\n",
       "      <td>-0.007882</td>\n",
       "      <td>0.000455</td>\n",
       "      <td>1.000000</td>\n",
       "      <td>-0.025719</td>\n",
       "      <td>0.160599</td>\n",
       "      <td>-0.094405</td>\n",
       "      <td>-0.053229</td>\n",
       "    </tr>\n",
       "    <tr>\n",
       "      <th>duration</th>\n",
       "      <td>-0.007414</td>\n",
       "      <td>0.025590</td>\n",
       "      <td>-0.025719</td>\n",
       "      <td>1.000000</td>\n",
       "      <td>-0.086526</td>\n",
       "      <td>-0.001179</td>\n",
       "      <td>0.002557</td>\n",
       "    </tr>\n",
       "    <tr>\n",
       "      <th>campaign</th>\n",
       "      <td>0.003160</td>\n",
       "      <td>-0.018566</td>\n",
       "      <td>0.160599</td>\n",
       "      <td>-0.086526</td>\n",
       "      <td>1.000000</td>\n",
       "      <td>-0.089317</td>\n",
       "      <td>-0.033300</td>\n",
       "    </tr>\n",
       "    <tr>\n",
       "      <th>pdays</th>\n",
       "      <td>-0.023231</td>\n",
       "      <td>0.002122</td>\n",
       "      <td>-0.094405</td>\n",
       "      <td>-0.001179</td>\n",
       "      <td>-0.089317</td>\n",
       "      <td>1.000000</td>\n",
       "      <td>0.440662</td>\n",
       "    </tr>\n",
       "    <tr>\n",
       "      <th>previous</th>\n",
       "      <td>0.002397</td>\n",
       "      <td>0.015291</td>\n",
       "      <td>-0.053229</td>\n",
       "      <td>0.002557</td>\n",
       "      <td>-0.033300</td>\n",
       "      <td>0.440662</td>\n",
       "      <td>1.000000</td>\n",
       "    </tr>\n",
       "  </tbody>\n",
       "</table>\n",
       "</div>"
      ],
      "text/plain": [
       "               age   balance       day  duration  campaign     pdays  previous\n",
       "age       1.000000  0.098921 -0.007882 -0.007414  0.003160 -0.023231  0.002397\n",
       "balance   0.098921  1.000000  0.000455  0.025590 -0.018566  0.002122  0.015291\n",
       "day      -0.007882  0.000455  1.000000 -0.025719  0.160599 -0.094405 -0.053229\n",
       "duration -0.007414  0.025590 -0.025719  1.000000 -0.086526 -0.001179  0.002557\n",
       "campaign  0.003160 -0.018566  0.160599 -0.086526  1.000000 -0.089317 -0.033300\n",
       "pdays    -0.023231  0.002122 -0.094405 -0.001179 -0.089317  1.000000  0.440662\n",
       "previous  0.002397  0.015291 -0.053229  0.002557 -0.033300  0.440662  1.000000"
      ]
     },
     "execution_count": 44,
     "metadata": {},
     "output_type": "execute_result"
    }
   ],
   "source": [
    "correlation_matrix"
   ]
  },
  {
   "cell_type": "code",
   "execution_count": 46,
   "id": "db9a7701-b664-4884-9149-9a0587bd7b55",
   "metadata": {},
   "outputs": [
    {
     "data": {
      "text/html": [
       "<div>\n",
       "<style scoped>\n",
       "    .dataframe tbody tr th:only-of-type {\n",
       "        vertical-align: middle;\n",
       "    }\n",
       "\n",
       "    .dataframe tbody tr th {\n",
       "        vertical-align: top;\n",
       "    }\n",
       "\n",
       "    .dataframe thead th {\n",
       "        text-align: right;\n",
       "    }\n",
       "</style>\n",
       "<table border=\"1\" class=\"dataframe\">\n",
       "  <thead>\n",
       "    <tr style=\"text-align: right;\">\n",
       "      <th></th>\n",
       "      <th>age</th>\n",
       "      <th>balance</th>\n",
       "      <th>day</th>\n",
       "      <th>duration</th>\n",
       "      <th>campaign</th>\n",
       "      <th>pdays</th>\n",
       "      <th>previous</th>\n",
       "    </tr>\n",
       "  </thead>\n",
       "  <tbody>\n",
       "    <tr>\n",
       "      <th>age</th>\n",
       "      <td>1.000000</td>\n",
       "      <td>0.098921</td>\n",
       "      <td>0.007882</td>\n",
       "      <td>0.007414</td>\n",
       "      <td>0.003160</td>\n",
       "      <td>0.023231</td>\n",
       "      <td>0.002397</td>\n",
       "    </tr>\n",
       "    <tr>\n",
       "      <th>balance</th>\n",
       "      <td>0.098921</td>\n",
       "      <td>1.000000</td>\n",
       "      <td>0.000455</td>\n",
       "      <td>0.025590</td>\n",
       "      <td>0.018566</td>\n",
       "      <td>0.002122</td>\n",
       "      <td>0.015291</td>\n",
       "    </tr>\n",
       "    <tr>\n",
       "      <th>day</th>\n",
       "      <td>0.007882</td>\n",
       "      <td>0.000455</td>\n",
       "      <td>1.000000</td>\n",
       "      <td>0.025719</td>\n",
       "      <td>0.160599</td>\n",
       "      <td>0.094405</td>\n",
       "      <td>0.053229</td>\n",
       "    </tr>\n",
       "    <tr>\n",
       "      <th>duration</th>\n",
       "      <td>0.007414</td>\n",
       "      <td>0.025590</td>\n",
       "      <td>0.025719</td>\n",
       "      <td>1.000000</td>\n",
       "      <td>0.086526</td>\n",
       "      <td>0.001179</td>\n",
       "      <td>0.002557</td>\n",
       "    </tr>\n",
       "    <tr>\n",
       "      <th>campaign</th>\n",
       "      <td>0.003160</td>\n",
       "      <td>0.018566</td>\n",
       "      <td>0.160599</td>\n",
       "      <td>0.086526</td>\n",
       "      <td>1.000000</td>\n",
       "      <td>0.089317</td>\n",
       "      <td>0.033300</td>\n",
       "    </tr>\n",
       "    <tr>\n",
       "      <th>pdays</th>\n",
       "      <td>0.023231</td>\n",
       "      <td>0.002122</td>\n",
       "      <td>0.094405</td>\n",
       "      <td>0.001179</td>\n",
       "      <td>0.089317</td>\n",
       "      <td>1.000000</td>\n",
       "      <td>0.440662</td>\n",
       "    </tr>\n",
       "    <tr>\n",
       "      <th>previous</th>\n",
       "      <td>0.002397</td>\n",
       "      <td>0.015291</td>\n",
       "      <td>0.053229</td>\n",
       "      <td>0.002557</td>\n",
       "      <td>0.033300</td>\n",
       "      <td>0.440662</td>\n",
       "      <td>1.000000</td>\n",
       "    </tr>\n",
       "  </tbody>\n",
       "</table>\n",
       "</div>"
      ],
      "text/plain": [
       "               age   balance       day  duration  campaign     pdays  previous\n",
       "age       1.000000  0.098921  0.007882  0.007414  0.003160  0.023231  0.002397\n",
       "balance   0.098921  1.000000  0.000455  0.025590  0.018566  0.002122  0.015291\n",
       "day       0.007882  0.000455  1.000000  0.025719  0.160599  0.094405  0.053229\n",
       "duration  0.007414  0.025590  0.025719  1.000000  0.086526  0.001179  0.002557\n",
       "campaign  0.003160  0.018566  0.160599  0.086526  1.000000  0.089317  0.033300\n",
       "pdays     0.023231  0.002122  0.094405  0.001179  0.089317  1.000000  0.440662\n",
       "previous  0.002397  0.015291  0.053229  0.002557  0.033300  0.440662  1.000000"
      ]
     },
     "execution_count": 46,
     "metadata": {},
     "output_type": "execute_result"
    }
   ],
   "source": [
    "abs_corr_matrix"
   ]
  },
  {
   "cell_type": "code",
   "execution_count": 50,
   "id": "159c4366-0d6d-4854-ba73-835d306ee70b",
   "metadata": {},
   "outputs": [
    {
     "data": {
      "text/plain": [
       "0.4406621883723763"
      ]
     },
     "execution_count": 50,
     "metadata": {},
     "output_type": "execute_result"
    }
   ],
   "source": [
    "np.fill_diagonal(abs_corr_matrix.values, np.nan)\n",
    "\n",
    "max_corr_value = abs_corr_matrix.max().max()\n",
    "max_corr_value"
   ]
  },
  {
   "cell_type": "code",
   "execution_count": 54,
   "id": "30498792-f483-4e5d-b147-49af5157a97f",
   "metadata": {},
   "outputs": [
    {
     "data": {
      "text/plain": [
       "('pdays', 'previous')"
      ]
     },
     "execution_count": 54,
     "metadata": {},
     "output_type": "execute_result"
    }
   ],
   "source": [
    "max_corr_features = abs_corr_matrix.stack().idxmax()\n",
    "max_corr_features"
   ]
  },
  {
   "cell_type": "markdown",
   "id": "c8892f33-03aa-4282-85ab-75ecfa338161",
   "metadata": {},
   "source": [
    "## Question 3\r\n",
    "\r\n",
    "Calculate the mutual information score between `y` and other categorical variables in the dataset. Use the training set only.  \r\n",
    "Round the scores to 2 decimals using `round(score, 2)`.\r\n",
    "\r\n",
    "Which of these variables has the biggest mutual information score?\r\n",
    "- contact\r\n",
    "- education\r\n",
    "- housing\r\n",
    "- poutcome\r\n"
   ]
  },
  {
   "cell_type": "code",
   "execution_count": null,
   "id": "8eca3506-fb87-47a8-a6bf-8d0e34ce4701",
   "metadata": {},
   "outputs": [],
   "source": [
    "from sklearn.metrics import mutual_info_score"
   ]
  },
  {
   "cell_type": "code",
   "execution_count": null,
   "id": "f7581553-93d8-4929-b448-95c08d20d85b",
   "metadata": {},
   "outputs": [],
   "source": [
    "categorical_features = list(df.dtypes[df.dtypes == 'object'].index)\n",
    "categorical_features"
   ]
  },
  {
   "cell_type": "code",
   "execution_count": null,
   "id": "0226233e-4752-4a8d-ae3f-6b3d2874650d",
   "metadata": {},
   "outputs": [],
   "source": [
    "df_full_train[categorical_features].head()"
   ]
  },
  {
   "cell_type": "code",
   "execution_count": null,
   "id": "79dc7d02-87ee-41da-95b1-194cd4ab13fa",
   "metadata": {},
   "outputs": [],
   "source": [
    "df_full_train[categorical_features].nunique()"
   ]
  },
  {
   "cell_type": "code",
   "execution_count": null,
   "id": "2cb0a263-d6df-4144-b181-aaeea28cb01e",
   "metadata": {},
   "outputs": [],
   "source": [
    "def mutual_score(series):\n",
    "    return mutual_info_score(series,y_train)"
   ]
  },
  {
   "cell_type": "code",
   "execution_count": null,
   "id": "91223056-554e-4762-8ad1-37e0c023a16b",
   "metadata": {},
   "outputs": [],
   "source": [
    "mutual_info = df_train[categorical_features].apply(mutual_score)"
   ]
  },
  {
   "cell_type": "code",
   "execution_count": null,
   "id": "17ce583c-a493-4937-a1e0-1a86e974e660",
   "metadata": {},
   "outputs": [],
   "source": [
    "mutual_info.sort_values(ascending=False).round(2)"
   ]
  },
  {
   "cell_type": "code",
   "execution_count": null,
   "id": "4991de5b-3857-4a5a-8b94-b325d2c72412",
   "metadata": {},
   "outputs": [],
   "source": []
  },
  {
   "cell_type": "code",
   "execution_count": null,
   "id": "c3c50453-8da6-4541-a670-d860495cdd92",
   "metadata": {},
   "outputs": [],
   "source": []
  },
  {
   "cell_type": "code",
   "execution_count": null,
   "id": "806a23c3-18fa-45e1-8af0-c4181250f861",
   "metadata": {},
   "outputs": [],
   "source": []
  },
  {
   "cell_type": "code",
   "execution_count": null,
   "id": "e79de8bd-11cf-4f25-9dcc-5d4a1ead80e1",
   "metadata": {},
   "outputs": [],
   "source": []
  },
  {
   "cell_type": "code",
   "execution_count": null,
   "id": "9a611573-0f19-408d-89d3-9451040c70e3",
   "metadata": {},
   "outputs": [],
   "source": []
  },
  {
   "cell_type": "code",
   "execution_count": null,
   "id": "6eac5676-9f27-468e-8604-6f1ab748c062",
   "metadata": {},
   "outputs": [],
   "source": []
  },
  {
   "cell_type": "code",
   "execution_count": null,
   "id": "950daef7-a081-4682-9c28-3700e7b972da",
   "metadata": {},
   "outputs": [],
   "source": []
  },
  {
   "cell_type": "code",
   "execution_count": null,
   "id": "d99cbbd7-a0d7-42fc-b335-5380beaed088",
   "metadata": {},
   "outputs": [],
   "source": []
  },
  {
   "cell_type": "code",
   "execution_count": null,
   "id": "d5a95784-b91e-4720-8a99-e4ff1f4c9dd3",
   "metadata": {},
   "outputs": [],
   "source": []
  }
 ],
 "metadata": {
  "kernelspec": {
   "display_name": "Python 3 (ipykernel)",
   "language": "python",
   "name": "python3"
  },
  "language_info": {
   "codemirror_mode": {
    "name": "ipython",
    "version": 3
   },
   "file_extension": ".py",
   "mimetype": "text/x-python",
   "name": "python",
   "nbconvert_exporter": "python",
   "pygments_lexer": "ipython3",
   "version": "3.12.4"
  }
 },
 "nbformat": 4,
 "nbformat_minor": 5
}
