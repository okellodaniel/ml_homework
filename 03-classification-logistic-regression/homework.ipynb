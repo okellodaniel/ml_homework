{
 "cells": [
  {
   "cell_type": "code",
   "execution_count": 1,
   "id": "f9c8921c-6029-4b2c-b32d-cfb67886e011",
   "metadata": {},
   "outputs": [],
   "source": [
    "import pandas as pd\n",
    "import numpy as np\n",
    "import matplotlib.pyplot as plt"
   ]
  },
  {
   "cell_type": "markdown",
   "id": "d74b6179-c9a3-4b80-b943-80ed125d361c",
   "metadata": {},
   "source": [
    "## Data Preparation\n",
    "- wget https://archive.ics.uci.edu/static/public/222/bank+marketing.zip"
   ]
  },
  {
   "cell_type": "code",
   "execution_count": 3,
   "id": "0d1e05fe-e721-4e0f-b41c-cf95796a384e",
   "metadata": {},
   "outputs": [
    {
     "name": "stdout",
     "output_type": "stream",
     "text": [
      "Requirement already satisfied: wget in c:\\users\\daniel\\anaconda3\\lib\\site-packages (3.2)\n",
      "Note: you may need to restart the kernel to use updated packages.\n"
     ]
    }
   ],
   "source": [
    "pip install wget"
   ]
  },
  {
   "cell_type": "code",
   "execution_count": 4,
   "id": "0cdd191a-a004-48a8-9656-36cbe93a582f",
   "metadata": {},
   "outputs": [],
   "source": [
    "data = 'https://archive.ics.uci.edu/static/public/222/bank+marketing.zip'"
   ]
  },
  {
   "cell_type": "code",
   "execution_count": 5,
   "id": "7e1fa61e-fcc9-4ba5-8339-a1f89defcb2a",
   "metadata": {},
   "outputs": [
    {
     "name": "stdout",
     "output_type": "stream",
     "text": [
      "\n",
      "Saved under bank+marketing.zip\n"
     ]
    }
   ],
   "source": [
    "!python -m wget $data"
   ]
  },
  {
   "cell_type": "code",
   "execution_count": 6,
   "id": "3757f92b-ed70-4413-8373-b327c321a942",
   "metadata": {},
   "outputs": [],
   "source": [
    "from zipfile import ZipFile\n",
    "\n",
    "with ZipFile('bank+marketing.zip','r') as zipfile:\n",
    "   with ZipFile('bank.zip','r') as extrafile:\n",
    "        extrafile.extractall()"
   ]
  },
  {
   "cell_type": "code",
   "execution_count": 7,
   "id": "193794ce-9b46-48b3-ba8a-b2ad4c700927",
   "metadata": {},
   "outputs": [],
   "source": [
    "df = pd.read_csv('bank-full.csv',sep=';')"
   ]
  },
  {
   "cell_type": "markdown",
   "id": "283c01bf-90bf-4921-82b3-9b9ba505f29d",
   "metadata": {},
   "source": [
    "## Question 1\r\n",
    "\r\n",
    "What is the most frequent observation (mode) for the column `education`?\r\n",
    "- unknown\r\n",
    "- primary\r\n",
    "- secondary\r\n",
    "- tertiary\r\n",
    "tiary"
   ]
  },
  {
   "cell_type": "code",
   "execution_count": 9,
   "id": "2565e242-8724-402e-81a2-abc577359a06",
   "metadata": {},
   "outputs": [
    {
     "data": {
      "text/plain": [
       "education\n",
       "secondary    23202\n",
       "tertiary     13301\n",
       "primary       6851\n",
       "unknown       1857\n",
       "Name: count, dtype: int64"
      ]
     },
     "execution_count": 9,
     "metadata": {},
     "output_type": "execute_result"
    }
   ],
   "source": [
    "df.education.value_counts()"
   ]
  },
  {
   "cell_type": "code",
   "execution_count": 10,
   "id": "73a27cba-2346-4e22-ba5c-1b5626ca39e8",
   "metadata": {},
   "outputs": [
    {
     "data": {
      "text/plain": [
       "0    secondary\n",
       "Name: education, dtype: object"
      ]
     },
     "execution_count": 10,
     "metadata": {},
     "output_type": "execute_result"
    }
   ],
   "source": [
    "df.education.mode()"
   ]
  },
  {
   "cell_type": "markdown",
   "id": "932464c5-bfd0-4b76-84e7-b3134b010cb1",
   "metadata": {},
   "source": [
    "## Question 2\r\n",
    "\r\n",
    "Create the correlation matrix for the numerical features of your dataset. In a correlation matrix, you compute the correlation coefficient between every pair of features.\r\n",
    "\r\n",
    "What are the two features that have the biggest correlation?\r\n",
    "- age and balance\r\n",
    "- day and campaign\r\n",
    "- day and pdays\r\n",
    "- pdays and previous\r\n"
   ]
  },
  {
   "cell_type": "markdown",
   "id": "72044e56-f710-4c69-9153-e1d4f1764018",
   "metadata": {},
   "source": [
    "Cleaning data"
   ]
  },
  {
   "cell_type": "code",
   "execution_count": 13,
   "id": "29d9c8c0-043f-42e7-8309-23ab4a936e8f",
   "metadata": {},
   "outputs": [],
   "source": [
    "# Clean dataset\n",
    "df.columns = df.columns.str.lower().str.replace(' ', '_')\n",
    "\n",
    "categorical_columns = list(df.dtypes[df.dtypes == 'object'].index)\n",
    "\n",
    "for c in categorical_columns:\n",
    "    df[c] = df[c].str.lower().str.replace(' ', '_')"
   ]
  },
  {
   "cell_type": "code",
   "execution_count": 14,
   "id": "ed60faaf-d36f-4cd3-902a-ee5d893c08c0",
   "metadata": {},
   "outputs": [
    {
     "data": {
      "text/plain": [
       "Index(['age', 'job', 'marital', 'education', 'default', 'balance', 'housing',\n",
       "       'loan', 'contact', 'day', 'month', 'duration', 'campaign', 'pdays',\n",
       "       'previous', 'poutcome', 'y'],\n",
       "      dtype='object')"
      ]
     },
     "execution_count": 14,
     "metadata": {},
     "output_type": "execute_result"
    }
   ],
   "source": [
    "df.columns"
   ]
  },
  {
   "cell_type": "code",
   "execution_count": 15,
   "id": "02fdfa66-4d5c-4953-8425-bbf74932653f",
   "metadata": {},
   "outputs": [],
   "source": [
    "# Null value count"
   ]
  },
  {
   "cell_type": "code",
   "execution_count": 16,
   "id": "11ccf453-0944-4603-9402-662d4e703967",
   "metadata": {},
   "outputs": [
    {
     "data": {
      "text/plain": [
       "age          0\n",
       "job          0\n",
       "marital      0\n",
       "education    0\n",
       "default      0\n",
       "balance      0\n",
       "housing      0\n",
       "loan         0\n",
       "contact      0\n",
       "day          0\n",
       "month        0\n",
       "duration     0\n",
       "campaign     0\n",
       "pdays        0\n",
       "previous     0\n",
       "poutcome     0\n",
       "y            0\n",
       "dtype: int64"
      ]
     },
     "execution_count": 16,
     "metadata": {},
     "output_type": "execute_result"
    }
   ],
   "source": [
    "df.isnull().sum()"
   ]
  },
  {
   "cell_type": "code",
   "execution_count": 17,
   "id": "704f80b6-f5a1-4410-82a9-732c7c890c26",
   "metadata": {},
   "outputs": [
    {
     "data": {
      "text/plain": [
       "['age', 'balance', 'day', 'duration', 'campaign', 'pdays', 'previous']"
      ]
     },
     "execution_count": 17,
     "metadata": {},
     "output_type": "execute_result"
    }
   ],
   "source": [
    "numerical_features = list(df.dtypes[df.dtypes == 'int64'].index)\n",
    "numerical_features"
   ]
  },
  {
   "cell_type": "code",
   "execution_count": 18,
   "id": "3202e676-78d0-4fe9-a4d6-3a51c959ebd1",
   "metadata": {},
   "outputs": [
    {
     "data": {
      "text/plain": [
       "y\n",
       "no     39922\n",
       "yes     5289\n",
       "Name: count, dtype: int64"
      ]
     },
     "execution_count": 18,
     "metadata": {},
     "output_type": "execute_result"
    }
   ],
   "source": [
    "df.y.value_counts()"
   ]
  },
  {
   "cell_type": "code",
   "execution_count": 19,
   "id": "4950d1fc-3d82-417c-9a43-4fa000ccbf13",
   "metadata": {},
   "outputs": [
    {
     "data": {
      "text/plain": [
       "0        0\n",
       "1        0\n",
       "2        0\n",
       "3        0\n",
       "4        0\n",
       "        ..\n",
       "45206    1\n",
       "45207    1\n",
       "45208    1\n",
       "45209    0\n",
       "45210    0\n",
       "Name: y, Length: 45211, dtype: int32"
      ]
     },
     "execution_count": 19,
     "metadata": {},
     "output_type": "execute_result"
    }
   ],
   "source": [
    "df.y = (df.y == 'yes').astype('int')\n",
    "df.y"
   ]
  },
  {
   "cell_type": "markdown",
   "id": "ea1ff27c-5751-41ea-af1f-1af70ca733a2",
   "metadata": {},
   "source": [
    "Splitting data"
   ]
  },
  {
   "cell_type": "code",
   "execution_count": 21,
   "id": "c68792d3-7b8a-4411-8c7a-3544d5db7b03",
   "metadata": {},
   "outputs": [],
   "source": [
    "# Splitting dataset\n",
    "from sklearn.model_selection import train_test_split"
   ]
  },
  {
   "cell_type": "code",
   "execution_count": 22,
   "id": "52dea6c7-0e3f-4f9d-b0d1-1522893c3fab",
   "metadata": {},
   "outputs": [],
   "source": [
    "df_full_train,df_test = train_test_split(df,test_size=0.2,random_state=42)\n",
    "df_train,df_val = train_test_split(df_full_train,test_size=0.25,random_state=42)"
   ]
  },
  {
   "cell_type": "code",
   "execution_count": 23,
   "id": "7d781ba5-909d-4580-a5c3-3637281b7150",
   "metadata": {},
   "outputs": [],
   "source": [
    "df_train = df_train.reset_index(drop=True)\n",
    "df_val = df_val.reset_index(drop=True)\n",
    "df_test = df_test.reset_index(drop=True)"
   ]
  },
  {
   "cell_type": "code",
   "execution_count": 24,
   "id": "b61dfffc-8166-467e-b3a9-bafd73805056",
   "metadata": {},
   "outputs": [],
   "source": [
    "y_full_train = df_full_train.y.values\n",
    "y_train = df_train.y.values\n",
    "y_val = df_val.y.values\n",
    "y_test = df_test.y.values"
   ]
  },
  {
   "cell_type": "code",
   "execution_count": 25,
   "id": "4225ee21-73fd-4a84-af51-79f88e61e7d3",
   "metadata": {},
   "outputs": [],
   "source": [
    "df_train.drop(columns='y',inplace=True)\n",
    "df_val.drop(columns='y',inplace=True)\n",
    "df_test.drop(columns='y',inplace=True)"
   ]
  },
  {
   "cell_type": "code",
   "execution_count": 26,
   "id": "8fe65acf-9558-4b80-9924-ac48f48f7da1",
   "metadata": {},
   "outputs": [
    {
     "data": {
      "text/plain": [
       "0"
      ]
     },
     "execution_count": 26,
     "metadata": {},
     "output_type": "execute_result"
    }
   ],
   "source": [
    "df.y.isnull().sum()"
   ]
  },
  {
   "cell_type": "code",
   "execution_count": 79,
   "id": "7f561164-5976-4a49-b6af-04883421f415",
   "metadata": {},
   "outputs": [
    {
     "data": {
      "text/plain": [
       "(27126, 16)"
      ]
     },
     "execution_count": 79,
     "metadata": {},
     "output_type": "execute_result"
    }
   ],
   "source": [
    "df_train.shape"
   ]
  },
  {
   "cell_type": "code",
   "execution_count": 81,
   "id": "60556746-61df-40c6-a156-226a8924f99b",
   "metadata": {},
   "outputs": [
    {
     "data": {
      "text/plain": [
       "(9042, 16)"
      ]
     },
     "execution_count": 81,
     "metadata": {},
     "output_type": "execute_result"
    }
   ],
   "source": [
    "df_val.shape"
   ]
  },
  {
   "cell_type": "code",
   "execution_count": 83,
   "id": "5d792426-a48b-45c2-a4a5-cf2f5a780300",
   "metadata": {},
   "outputs": [
    {
     "data": {
      "text/plain": [
       "(9043, 16)"
      ]
     },
     "execution_count": 83,
     "metadata": {},
     "output_type": "execute_result"
    }
   ],
   "source": [
    "df_test.shape"
   ]
  },
  {
   "cell_type": "code",
   "execution_count": 27,
   "id": "9cad5327-596e-4827-91c7-4c1c34fe1bf4",
   "metadata": {},
   "outputs": [
    {
     "data": {
      "text/plain": [
       "age         0\n",
       "balance     0\n",
       "day         0\n",
       "duration    0\n",
       "campaign    0\n",
       "pdays       0\n",
       "previous    0\n",
       "dtype: int64"
      ]
     },
     "execution_count": 27,
     "metadata": {},
     "output_type": "execute_result"
    }
   ],
   "source": [
    "df_full_train[numerical_features].isnull().sum()"
   ]
  },
  {
   "cell_type": "code",
   "execution_count": 28,
   "id": "54ac2405-7e1b-4acb-9545-b3d28e5ed0ef",
   "metadata": {},
   "outputs": [
    {
     "data": {
      "text/plain": [
       "age           77\n",
       "balance     6652\n",
       "day           31\n",
       "duration    1493\n",
       "campaign      47\n",
       "pdays        529\n",
       "previous      40\n",
       "dtype: int64"
      ]
     },
     "execution_count": 28,
     "metadata": {},
     "output_type": "execute_result"
    }
   ],
   "source": [
    "df_full_train[numerical_features].nunique()"
   ]
  },
  {
   "cell_type": "code",
   "execution_count": 38,
   "id": "6495bedf-ac67-4959-b410-b8b38772249c",
   "metadata": {
    "scrolled": true
   },
   "outputs": [],
   "source": [
    "# Correlation matrix\n",
    "correlation_matrix = df_full_train[numerical_features].corr()\n",
    "abs_corr_matrix = correlation_matrix.abs()"
   ]
  },
  {
   "cell_type": "code",
   "execution_count": 44,
   "id": "71923fac-3af2-4812-88ee-0783664304e9",
   "metadata": {},
   "outputs": [
    {
     "data": {
      "text/html": [
       "<div>\n",
       "<style scoped>\n",
       "    .dataframe tbody tr th:only-of-type {\n",
       "        vertical-align: middle;\n",
       "    }\n",
       "\n",
       "    .dataframe tbody tr th {\n",
       "        vertical-align: top;\n",
       "    }\n",
       "\n",
       "    .dataframe thead th {\n",
       "        text-align: right;\n",
       "    }\n",
       "</style>\n",
       "<table border=\"1\" class=\"dataframe\">\n",
       "  <thead>\n",
       "    <tr style=\"text-align: right;\">\n",
       "      <th></th>\n",
       "      <th>age</th>\n",
       "      <th>balance</th>\n",
       "      <th>day</th>\n",
       "      <th>duration</th>\n",
       "      <th>campaign</th>\n",
       "      <th>pdays</th>\n",
       "      <th>previous</th>\n",
       "    </tr>\n",
       "  </thead>\n",
       "  <tbody>\n",
       "    <tr>\n",
       "      <th>age</th>\n",
       "      <td>1.000000</td>\n",
       "      <td>0.098921</td>\n",
       "      <td>-0.007882</td>\n",
       "      <td>-0.007414</td>\n",
       "      <td>0.003160</td>\n",
       "      <td>-0.023231</td>\n",
       "      <td>0.002397</td>\n",
       "    </tr>\n",
       "    <tr>\n",
       "      <th>balance</th>\n",
       "      <td>0.098921</td>\n",
       "      <td>1.000000</td>\n",
       "      <td>0.000455</td>\n",
       "      <td>0.025590</td>\n",
       "      <td>-0.018566</td>\n",
       "      <td>0.002122</td>\n",
       "      <td>0.015291</td>\n",
       "    </tr>\n",
       "    <tr>\n",
       "      <th>day</th>\n",
       "      <td>-0.007882</td>\n",
       "      <td>0.000455</td>\n",
       "      <td>1.000000</td>\n",
       "      <td>-0.025719</td>\n",
       "      <td>0.160599</td>\n",
       "      <td>-0.094405</td>\n",
       "      <td>-0.053229</td>\n",
       "    </tr>\n",
       "    <tr>\n",
       "      <th>duration</th>\n",
       "      <td>-0.007414</td>\n",
       "      <td>0.025590</td>\n",
       "      <td>-0.025719</td>\n",
       "      <td>1.000000</td>\n",
       "      <td>-0.086526</td>\n",
       "      <td>-0.001179</td>\n",
       "      <td>0.002557</td>\n",
       "    </tr>\n",
       "    <tr>\n",
       "      <th>campaign</th>\n",
       "      <td>0.003160</td>\n",
       "      <td>-0.018566</td>\n",
       "      <td>0.160599</td>\n",
       "      <td>-0.086526</td>\n",
       "      <td>1.000000</td>\n",
       "      <td>-0.089317</td>\n",
       "      <td>-0.033300</td>\n",
       "    </tr>\n",
       "    <tr>\n",
       "      <th>pdays</th>\n",
       "      <td>-0.023231</td>\n",
       "      <td>0.002122</td>\n",
       "      <td>-0.094405</td>\n",
       "      <td>-0.001179</td>\n",
       "      <td>-0.089317</td>\n",
       "      <td>1.000000</td>\n",
       "      <td>0.440662</td>\n",
       "    </tr>\n",
       "    <tr>\n",
       "      <th>previous</th>\n",
       "      <td>0.002397</td>\n",
       "      <td>0.015291</td>\n",
       "      <td>-0.053229</td>\n",
       "      <td>0.002557</td>\n",
       "      <td>-0.033300</td>\n",
       "      <td>0.440662</td>\n",
       "      <td>1.000000</td>\n",
       "    </tr>\n",
       "  </tbody>\n",
       "</table>\n",
       "</div>"
      ],
      "text/plain": [
       "               age   balance       day  duration  campaign     pdays  previous\n",
       "age       1.000000  0.098921 -0.007882 -0.007414  0.003160 -0.023231  0.002397\n",
       "balance   0.098921  1.000000  0.000455  0.025590 -0.018566  0.002122  0.015291\n",
       "day      -0.007882  0.000455  1.000000 -0.025719  0.160599 -0.094405 -0.053229\n",
       "duration -0.007414  0.025590 -0.025719  1.000000 -0.086526 -0.001179  0.002557\n",
       "campaign  0.003160 -0.018566  0.160599 -0.086526  1.000000 -0.089317 -0.033300\n",
       "pdays    -0.023231  0.002122 -0.094405 -0.001179 -0.089317  1.000000  0.440662\n",
       "previous  0.002397  0.015291 -0.053229  0.002557 -0.033300  0.440662  1.000000"
      ]
     },
     "execution_count": 44,
     "metadata": {},
     "output_type": "execute_result"
    }
   ],
   "source": [
    "correlation_matrix"
   ]
  },
  {
   "cell_type": "code",
   "execution_count": 46,
   "id": "db9a7701-b664-4884-9149-9a0587bd7b55",
   "metadata": {},
   "outputs": [
    {
     "data": {
      "text/html": [
       "<div>\n",
       "<style scoped>\n",
       "    .dataframe tbody tr th:only-of-type {\n",
       "        vertical-align: middle;\n",
       "    }\n",
       "\n",
       "    .dataframe tbody tr th {\n",
       "        vertical-align: top;\n",
       "    }\n",
       "\n",
       "    .dataframe thead th {\n",
       "        text-align: right;\n",
       "    }\n",
       "</style>\n",
       "<table border=\"1\" class=\"dataframe\">\n",
       "  <thead>\n",
       "    <tr style=\"text-align: right;\">\n",
       "      <th></th>\n",
       "      <th>age</th>\n",
       "      <th>balance</th>\n",
       "      <th>day</th>\n",
       "      <th>duration</th>\n",
       "      <th>campaign</th>\n",
       "      <th>pdays</th>\n",
       "      <th>previous</th>\n",
       "    </tr>\n",
       "  </thead>\n",
       "  <tbody>\n",
       "    <tr>\n",
       "      <th>age</th>\n",
       "      <td>1.000000</td>\n",
       "      <td>0.098921</td>\n",
       "      <td>0.007882</td>\n",
       "      <td>0.007414</td>\n",
       "      <td>0.003160</td>\n",
       "      <td>0.023231</td>\n",
       "      <td>0.002397</td>\n",
       "    </tr>\n",
       "    <tr>\n",
       "      <th>balance</th>\n",
       "      <td>0.098921</td>\n",
       "      <td>1.000000</td>\n",
       "      <td>0.000455</td>\n",
       "      <td>0.025590</td>\n",
       "      <td>0.018566</td>\n",
       "      <td>0.002122</td>\n",
       "      <td>0.015291</td>\n",
       "    </tr>\n",
       "    <tr>\n",
       "      <th>day</th>\n",
       "      <td>0.007882</td>\n",
       "      <td>0.000455</td>\n",
       "      <td>1.000000</td>\n",
       "      <td>0.025719</td>\n",
       "      <td>0.160599</td>\n",
       "      <td>0.094405</td>\n",
       "      <td>0.053229</td>\n",
       "    </tr>\n",
       "    <tr>\n",
       "      <th>duration</th>\n",
       "      <td>0.007414</td>\n",
       "      <td>0.025590</td>\n",
       "      <td>0.025719</td>\n",
       "      <td>1.000000</td>\n",
       "      <td>0.086526</td>\n",
       "      <td>0.001179</td>\n",
       "      <td>0.002557</td>\n",
       "    </tr>\n",
       "    <tr>\n",
       "      <th>campaign</th>\n",
       "      <td>0.003160</td>\n",
       "      <td>0.018566</td>\n",
       "      <td>0.160599</td>\n",
       "      <td>0.086526</td>\n",
       "      <td>1.000000</td>\n",
       "      <td>0.089317</td>\n",
       "      <td>0.033300</td>\n",
       "    </tr>\n",
       "    <tr>\n",
       "      <th>pdays</th>\n",
       "      <td>0.023231</td>\n",
       "      <td>0.002122</td>\n",
       "      <td>0.094405</td>\n",
       "      <td>0.001179</td>\n",
       "      <td>0.089317</td>\n",
       "      <td>1.000000</td>\n",
       "      <td>0.440662</td>\n",
       "    </tr>\n",
       "    <tr>\n",
       "      <th>previous</th>\n",
       "      <td>0.002397</td>\n",
       "      <td>0.015291</td>\n",
       "      <td>0.053229</td>\n",
       "      <td>0.002557</td>\n",
       "      <td>0.033300</td>\n",
       "      <td>0.440662</td>\n",
       "      <td>1.000000</td>\n",
       "    </tr>\n",
       "  </tbody>\n",
       "</table>\n",
       "</div>"
      ],
      "text/plain": [
       "               age   balance       day  duration  campaign     pdays  previous\n",
       "age       1.000000  0.098921  0.007882  0.007414  0.003160  0.023231  0.002397\n",
       "balance   0.098921  1.000000  0.000455  0.025590  0.018566  0.002122  0.015291\n",
       "day       0.007882  0.000455  1.000000  0.025719  0.160599  0.094405  0.053229\n",
       "duration  0.007414  0.025590  0.025719  1.000000  0.086526  0.001179  0.002557\n",
       "campaign  0.003160  0.018566  0.160599  0.086526  1.000000  0.089317  0.033300\n",
       "pdays     0.023231  0.002122  0.094405  0.001179  0.089317  1.000000  0.440662\n",
       "previous  0.002397  0.015291  0.053229  0.002557  0.033300  0.440662  1.000000"
      ]
     },
     "execution_count": 46,
     "metadata": {},
     "output_type": "execute_result"
    }
   ],
   "source": [
    "abs_corr_matrix"
   ]
  },
  {
   "cell_type": "code",
   "execution_count": 50,
   "id": "159c4366-0d6d-4854-ba73-835d306ee70b",
   "metadata": {},
   "outputs": [
    {
     "data": {
      "text/plain": [
       "0.4406621883723763"
      ]
     },
     "execution_count": 50,
     "metadata": {},
     "output_type": "execute_result"
    }
   ],
   "source": [
    "np.fill_diagonal(abs_corr_matrix.values, np.nan)\n",
    "\n",
    "max_corr_value = abs_corr_matrix.max().max()\n",
    "max_corr_value"
   ]
  },
  {
   "cell_type": "code",
   "execution_count": 54,
   "id": "30498792-f483-4e5d-b147-49af5157a97f",
   "metadata": {},
   "outputs": [
    {
     "data": {
      "text/plain": [
       "('pdays', 'previous')"
      ]
     },
     "execution_count": 54,
     "metadata": {},
     "output_type": "execute_result"
    }
   ],
   "source": [
    "max_corr_features = abs_corr_matrix.stack().idxmax()\n",
    "max_corr_features"
   ]
  },
  {
   "cell_type": "markdown",
   "id": "c8892f33-03aa-4282-85ab-75ecfa338161",
   "metadata": {},
   "source": [
    "## Question 3\r\n",
    "\r\n",
    "Calculate the mutual information score between `y` and other categorical variables in the dataset. Use the training set only.  \r\n",
    "Round the scores to 2 decimals using `round(score, 2)`.\r\n",
    "\r\n",
    "Which of these variables has the biggest mutual information score?\r\n",
    "- contact\r\n",
    "- education\r\n",
    "- housing\r\n",
    "- poutcome\r\n"
   ]
  },
  {
   "cell_type": "code",
   "execution_count": 89,
   "id": "8eca3506-fb87-47a8-a6bf-8d0e34ce4701",
   "metadata": {},
   "outputs": [],
   "source": [
    "from sklearn.metrics import mutual_info_score"
   ]
  },
  {
   "cell_type": "code",
   "execution_count": 91,
   "id": "f7581553-93d8-4929-b448-95c08d20d85b",
   "metadata": {},
   "outputs": [
    {
     "data": {
      "text/plain": [
       "['job',\n",
       " 'marital',\n",
       " 'education',\n",
       " 'default',\n",
       " 'housing',\n",
       " 'loan',\n",
       " 'contact',\n",
       " 'month',\n",
       " 'poutcome']"
      ]
     },
     "execution_count": 91,
     "metadata": {},
     "output_type": "execute_result"
    }
   ],
   "source": [
    "categorical_features = list(df.dtypes[df.dtypes == 'object'].index)\n",
    "categorical_features"
   ]
  },
  {
   "cell_type": "code",
   "execution_count": 93,
   "id": "0226233e-4752-4a8d-ae3f-6b3d2874650d",
   "metadata": {},
   "outputs": [
    {
     "data": {
      "text/html": [
       "<div>\n",
       "<style scoped>\n",
       "    .dataframe tbody tr th:only-of-type {\n",
       "        vertical-align: middle;\n",
       "    }\n",
       "\n",
       "    .dataframe tbody tr th {\n",
       "        vertical-align: top;\n",
       "    }\n",
       "\n",
       "    .dataframe thead th {\n",
       "        text-align: right;\n",
       "    }\n",
       "</style>\n",
       "<table border=\"1\" class=\"dataframe\">\n",
       "  <thead>\n",
       "    <tr style=\"text-align: right;\">\n",
       "      <th></th>\n",
       "      <th>job</th>\n",
       "      <th>marital</th>\n",
       "      <th>education</th>\n",
       "      <th>default</th>\n",
       "      <th>housing</th>\n",
       "      <th>loan</th>\n",
       "      <th>contact</th>\n",
       "      <th>month</th>\n",
       "      <th>poutcome</th>\n",
       "    </tr>\n",
       "  </thead>\n",
       "  <tbody>\n",
       "    <tr>\n",
       "      <th>0</th>\n",
       "      <td>technician</td>\n",
       "      <td>single</td>\n",
       "      <td>tertiary</td>\n",
       "      <td>no</td>\n",
       "      <td>yes</td>\n",
       "      <td>yes</td>\n",
       "      <td>cellular</td>\n",
       "      <td>aug</td>\n",
       "      <td>unknown</td>\n",
       "    </tr>\n",
       "    <tr>\n",
       "      <th>1</th>\n",
       "      <td>entrepreneur</td>\n",
       "      <td>married</td>\n",
       "      <td>secondary</td>\n",
       "      <td>no</td>\n",
       "      <td>yes</td>\n",
       "      <td>yes</td>\n",
       "      <td>cellular</td>\n",
       "      <td>nov</td>\n",
       "      <td>unknown</td>\n",
       "    </tr>\n",
       "    <tr>\n",
       "      <th>2</th>\n",
       "      <td>blue-collar</td>\n",
       "      <td>married</td>\n",
       "      <td>secondary</td>\n",
       "      <td>no</td>\n",
       "      <td>yes</td>\n",
       "      <td>no</td>\n",
       "      <td>cellular</td>\n",
       "      <td>may</td>\n",
       "      <td>unknown</td>\n",
       "    </tr>\n",
       "    <tr>\n",
       "      <th>3</th>\n",
       "      <td>housemaid</td>\n",
       "      <td>married</td>\n",
       "      <td>primary</td>\n",
       "      <td>no</td>\n",
       "      <td>no</td>\n",
       "      <td>no</td>\n",
       "      <td>cellular</td>\n",
       "      <td>aug</td>\n",
       "      <td>unknown</td>\n",
       "    </tr>\n",
       "    <tr>\n",
       "      <th>4</th>\n",
       "      <td>self-employed</td>\n",
       "      <td>married</td>\n",
       "      <td>tertiary</td>\n",
       "      <td>no</td>\n",
       "      <td>no</td>\n",
       "      <td>no</td>\n",
       "      <td>cellular</td>\n",
       "      <td>aug</td>\n",
       "      <td>unknown</td>\n",
       "    </tr>\n",
       "  </tbody>\n",
       "</table>\n",
       "</div>"
      ],
      "text/plain": [
       "             job  marital  education default housing loan   contact month  \\\n",
       "0     technician   single   tertiary      no     yes  yes  cellular   aug   \n",
       "1   entrepreneur  married  secondary      no     yes  yes  cellular   nov   \n",
       "2    blue-collar  married  secondary      no     yes   no  cellular   may   \n",
       "3      housemaid  married    primary      no      no   no  cellular   aug   \n",
       "4  self-employed  married   tertiary      no      no   no  cellular   aug   \n",
       "\n",
       "  poutcome  \n",
       "0  unknown  \n",
       "1  unknown  \n",
       "2  unknown  \n",
       "3  unknown  \n",
       "4  unknown  "
      ]
     },
     "execution_count": 93,
     "metadata": {},
     "output_type": "execute_result"
    }
   ],
   "source": [
    "df_train[categorical_features].head()"
   ]
  },
  {
   "cell_type": "code",
   "execution_count": 95,
   "id": "79dc7d02-87ee-41da-95b1-194cd4ab13fa",
   "metadata": {},
   "outputs": [
    {
     "data": {
      "text/plain": [
       "job          12\n",
       "marital       3\n",
       "education     4\n",
       "default       2\n",
       "housing       2\n",
       "loan          2\n",
       "contact       3\n",
       "month        12\n",
       "poutcome      4\n",
       "dtype: int64"
      ]
     },
     "execution_count": 95,
     "metadata": {},
     "output_type": "execute_result"
    }
   ],
   "source": [
    "df_train[categorical_features].nunique()"
   ]
  },
  {
   "cell_type": "code",
   "execution_count": 97,
   "id": "2cb0a263-d6df-4144-b181-aaeea28cb01e",
   "metadata": {},
   "outputs": [],
   "source": [
    "def mutual_score(series):\n",
    "    return mutual_info_score(series,y_train)"
   ]
  },
  {
   "cell_type": "code",
   "execution_count": 99,
   "id": "91223056-554e-4762-8ad1-37e0c023a16b",
   "metadata": {},
   "outputs": [],
   "source": [
    "mutual_info = df_train[categorical_features].apply(mutual_score)"
   ]
  },
  {
   "cell_type": "code",
   "execution_count": 101,
   "id": "17ce583c-a493-4937-a1e0-1a86e974e660",
   "metadata": {},
   "outputs": [
    {
     "data": {
      "text/plain": [
       "poutcome     0.03\n",
       "month        0.03\n",
       "contact      0.01\n",
       "housing      0.01\n",
       "job          0.01\n",
       "loan         0.00\n",
       "education    0.00\n",
       "marital      0.00\n",
       "default      0.00\n",
       "dtype: float64"
      ]
     },
     "execution_count": 101,
     "metadata": {},
     "output_type": "execute_result"
    }
   ],
   "source": [
    "mutual_info.sort_values(ascending=False).round(2)"
   ]
  },
  {
   "cell_type": "markdown",
   "id": "245d1ab9-461c-41ba-9c95-27ae562c7138",
   "metadata": {},
   "source": [
    "## Question 4\r\n",
    "\r\n",
    "Now let's train a logistic regression.  \r\n",
    "Remember that we have several categorical variables in the dataset. Include them using one-hot encoding.  \r\n",
    "Fit the model on the training dataset.  \r\n",
    "To make sure the results are reproducible across different versions of Scikit-Learn, fit the model with these parameters:\r\n",
    "\r\n",
    "```python\r\n",
    "model = LogisticRegression(solver='liblinear', C=1.0, max_iter=1000, random_s\n",
    "```\n",
    "\n",
    "Calculate the accuracy on the validation dataset and round it to 2 decimal digits.\n",
    "\n",
    "What accuracy did you get?\n",
    "\n",
    "- 0.6\n",
    "- 0.7\n",
    "- 0.8\n",
    "- 0.9tate=42)\r\n"
   ]
  },
  {
   "cell_type": "code",
   "execution_count": 104,
   "id": "b4dae093-f0a9-45f4-828f-b8ffbb463d2f",
   "metadata": {},
   "outputs": [],
   "source": [
    "def sigmoid(z):\n",
    "    return 1 / (1 + np.exp(-z))"
   ]
  },
  {
   "cell_type": "code",
   "execution_count": 106,
   "id": "806a23c3-18fa-45e1-8af0-c4181250f861",
   "metadata": {},
   "outputs": [],
   "source": [
    "def logistic_regression(xi):\n",
    "    score = w0\n",
    "    \n",
    "    for j in range(len(w)):\n",
    "        score = score + xi[j] * w[j]\n",
    "        \n",
    "    result = sigmoid(score)\n",
    "    return result"
   ]
  },
  {
   "cell_type": "code",
   "execution_count": 116,
   "id": "9a611573-0f19-408d-89d3-9451040c70e3",
   "metadata": {},
   "outputs": [],
   "source": [
    "from sklearn.feature_extraction import DictVectorizer\n",
    "from sklearn.linear_model import LogisticRegression"
   ]
  },
  {
   "cell_type": "code",
   "execution_count": 114,
   "id": "a862bd43-d757-48cb-b226-3960a1513e28",
   "metadata": {},
   "outputs": [],
   "source": [
    "dv = DictVectorizer(sparse=False)\n",
    "train_dict = df_train[categorical_features+numerical_features].to_dict(orient='records')\n",
    "X_train = dv.fit_transform(train_dict)\n",
    "\n",
    "val_dict = df_val[categorical_features+numerical_features].to_dict(orient='records')\n",
    "X_val = dv.fit_transform(val_dict)"
   ]
  },
  {
   "cell_type": "code",
   "execution_count": 118,
   "id": "2c89fd7f-11de-4aed-9b74-feeb65d488ea",
   "metadata": {},
   "outputs": [],
   "source": [
    "model = LogisticRegression(solver='liblinear', C=1.0, max_iter=1000, random_state=42)"
   ]
  },
  {
   "cell_type": "code",
   "execution_count": 120,
   "id": "4fc250df-c567-4c49-b6c2-719b261a67cb",
   "metadata": {},
   "outputs": [
    {
     "data": {
      "text/html": [
       "<style>#sk-container-id-1 {\n",
       "  /* Definition of color scheme common for light and dark mode */\n",
       "  --sklearn-color-text: black;\n",
       "  --sklearn-color-line: gray;\n",
       "  /* Definition of color scheme for unfitted estimators */\n",
       "  --sklearn-color-unfitted-level-0: #fff5e6;\n",
       "  --sklearn-color-unfitted-level-1: #f6e4d2;\n",
       "  --sklearn-color-unfitted-level-2: #ffe0b3;\n",
       "  --sklearn-color-unfitted-level-3: chocolate;\n",
       "  /* Definition of color scheme for fitted estimators */\n",
       "  --sklearn-color-fitted-level-0: #f0f8ff;\n",
       "  --sklearn-color-fitted-level-1: #d4ebff;\n",
       "  --sklearn-color-fitted-level-2: #b3dbfd;\n",
       "  --sklearn-color-fitted-level-3: cornflowerblue;\n",
       "\n",
       "  /* Specific color for light theme */\n",
       "  --sklearn-color-text-on-default-background: var(--sg-text-color, var(--theme-code-foreground, var(--jp-content-font-color1, black)));\n",
       "  --sklearn-color-background: var(--sg-background-color, var(--theme-background, var(--jp-layout-color0, white)));\n",
       "  --sklearn-color-border-box: var(--sg-text-color, var(--theme-code-foreground, var(--jp-content-font-color1, black)));\n",
       "  --sklearn-color-icon: #696969;\n",
       "\n",
       "  @media (prefers-color-scheme: dark) {\n",
       "    /* Redefinition of color scheme for dark theme */\n",
       "    --sklearn-color-text-on-default-background: var(--sg-text-color, var(--theme-code-foreground, var(--jp-content-font-color1, white)));\n",
       "    --sklearn-color-background: var(--sg-background-color, var(--theme-background, var(--jp-layout-color0, #111)));\n",
       "    --sklearn-color-border-box: var(--sg-text-color, var(--theme-code-foreground, var(--jp-content-font-color1, white)));\n",
       "    --sklearn-color-icon: #878787;\n",
       "  }\n",
       "}\n",
       "\n",
       "#sk-container-id-1 {\n",
       "  color: var(--sklearn-color-text);\n",
       "}\n",
       "\n",
       "#sk-container-id-1 pre {\n",
       "  padding: 0;\n",
       "}\n",
       "\n",
       "#sk-container-id-1 input.sk-hidden--visually {\n",
       "  border: 0;\n",
       "  clip: rect(1px 1px 1px 1px);\n",
       "  clip: rect(1px, 1px, 1px, 1px);\n",
       "  height: 1px;\n",
       "  margin: -1px;\n",
       "  overflow: hidden;\n",
       "  padding: 0;\n",
       "  position: absolute;\n",
       "  width: 1px;\n",
       "}\n",
       "\n",
       "#sk-container-id-1 div.sk-dashed-wrapped {\n",
       "  border: 1px dashed var(--sklearn-color-line);\n",
       "  margin: 0 0.4em 0.5em 0.4em;\n",
       "  box-sizing: border-box;\n",
       "  padding-bottom: 0.4em;\n",
       "  background-color: var(--sklearn-color-background);\n",
       "}\n",
       "\n",
       "#sk-container-id-1 div.sk-container {\n",
       "  /* jupyter's `normalize.less` sets `[hidden] { display: none; }`\n",
       "     but bootstrap.min.css set `[hidden] { display: none !important; }`\n",
       "     so we also need the `!important` here to be able to override the\n",
       "     default hidden behavior on the sphinx rendered scikit-learn.org.\n",
       "     See: https://github.com/scikit-learn/scikit-learn/issues/21755 */\n",
       "  display: inline-block !important;\n",
       "  position: relative;\n",
       "}\n",
       "\n",
       "#sk-container-id-1 div.sk-text-repr-fallback {\n",
       "  display: none;\n",
       "}\n",
       "\n",
       "div.sk-parallel-item,\n",
       "div.sk-serial,\n",
       "div.sk-item {\n",
       "  /* draw centered vertical line to link estimators */\n",
       "  background-image: linear-gradient(var(--sklearn-color-text-on-default-background), var(--sklearn-color-text-on-default-background));\n",
       "  background-size: 2px 100%;\n",
       "  background-repeat: no-repeat;\n",
       "  background-position: center center;\n",
       "}\n",
       "\n",
       "/* Parallel-specific style estimator block */\n",
       "\n",
       "#sk-container-id-1 div.sk-parallel-item::after {\n",
       "  content: \"\";\n",
       "  width: 100%;\n",
       "  border-bottom: 2px solid var(--sklearn-color-text-on-default-background);\n",
       "  flex-grow: 1;\n",
       "}\n",
       "\n",
       "#sk-container-id-1 div.sk-parallel {\n",
       "  display: flex;\n",
       "  align-items: stretch;\n",
       "  justify-content: center;\n",
       "  background-color: var(--sklearn-color-background);\n",
       "  position: relative;\n",
       "}\n",
       "\n",
       "#sk-container-id-1 div.sk-parallel-item {\n",
       "  display: flex;\n",
       "  flex-direction: column;\n",
       "}\n",
       "\n",
       "#sk-container-id-1 div.sk-parallel-item:first-child::after {\n",
       "  align-self: flex-end;\n",
       "  width: 50%;\n",
       "}\n",
       "\n",
       "#sk-container-id-1 div.sk-parallel-item:last-child::after {\n",
       "  align-self: flex-start;\n",
       "  width: 50%;\n",
       "}\n",
       "\n",
       "#sk-container-id-1 div.sk-parallel-item:only-child::after {\n",
       "  width: 0;\n",
       "}\n",
       "\n",
       "/* Serial-specific style estimator block */\n",
       "\n",
       "#sk-container-id-1 div.sk-serial {\n",
       "  display: flex;\n",
       "  flex-direction: column;\n",
       "  align-items: center;\n",
       "  background-color: var(--sklearn-color-background);\n",
       "  padding-right: 1em;\n",
       "  padding-left: 1em;\n",
       "}\n",
       "\n",
       "\n",
       "/* Toggleable style: style used for estimator/Pipeline/ColumnTransformer box that is\n",
       "clickable and can be expanded/collapsed.\n",
       "- Pipeline and ColumnTransformer use this feature and define the default style\n",
       "- Estimators will overwrite some part of the style using the `sk-estimator` class\n",
       "*/\n",
       "\n",
       "/* Pipeline and ColumnTransformer style (default) */\n",
       "\n",
       "#sk-container-id-1 div.sk-toggleable {\n",
       "  /* Default theme specific background. It is overwritten whether we have a\n",
       "  specific estimator or a Pipeline/ColumnTransformer */\n",
       "  background-color: var(--sklearn-color-background);\n",
       "}\n",
       "\n",
       "/* Toggleable label */\n",
       "#sk-container-id-1 label.sk-toggleable__label {\n",
       "  cursor: pointer;\n",
       "  display: block;\n",
       "  width: 100%;\n",
       "  margin-bottom: 0;\n",
       "  padding: 0.5em;\n",
       "  box-sizing: border-box;\n",
       "  text-align: center;\n",
       "}\n",
       "\n",
       "#sk-container-id-1 label.sk-toggleable__label-arrow:before {\n",
       "  /* Arrow on the left of the label */\n",
       "  content: \"▸\";\n",
       "  float: left;\n",
       "  margin-right: 0.25em;\n",
       "  color: var(--sklearn-color-icon);\n",
       "}\n",
       "\n",
       "#sk-container-id-1 label.sk-toggleable__label-arrow:hover:before {\n",
       "  color: var(--sklearn-color-text);\n",
       "}\n",
       "\n",
       "/* Toggleable content - dropdown */\n",
       "\n",
       "#sk-container-id-1 div.sk-toggleable__content {\n",
       "  max-height: 0;\n",
       "  max-width: 0;\n",
       "  overflow: hidden;\n",
       "  text-align: left;\n",
       "  /* unfitted */\n",
       "  background-color: var(--sklearn-color-unfitted-level-0);\n",
       "}\n",
       "\n",
       "#sk-container-id-1 div.sk-toggleable__content.fitted {\n",
       "  /* fitted */\n",
       "  background-color: var(--sklearn-color-fitted-level-0);\n",
       "}\n",
       "\n",
       "#sk-container-id-1 div.sk-toggleable__content pre {\n",
       "  margin: 0.2em;\n",
       "  border-radius: 0.25em;\n",
       "  color: var(--sklearn-color-text);\n",
       "  /* unfitted */\n",
       "  background-color: var(--sklearn-color-unfitted-level-0);\n",
       "}\n",
       "\n",
       "#sk-container-id-1 div.sk-toggleable__content.fitted pre {\n",
       "  /* unfitted */\n",
       "  background-color: var(--sklearn-color-fitted-level-0);\n",
       "}\n",
       "\n",
       "#sk-container-id-1 input.sk-toggleable__control:checked~div.sk-toggleable__content {\n",
       "  /* Expand drop-down */\n",
       "  max-height: 200px;\n",
       "  max-width: 100%;\n",
       "  overflow: auto;\n",
       "}\n",
       "\n",
       "#sk-container-id-1 input.sk-toggleable__control:checked~label.sk-toggleable__label-arrow:before {\n",
       "  content: \"▾\";\n",
       "}\n",
       "\n",
       "/* Pipeline/ColumnTransformer-specific style */\n",
       "\n",
       "#sk-container-id-1 div.sk-label input.sk-toggleable__control:checked~label.sk-toggleable__label {\n",
       "  color: var(--sklearn-color-text);\n",
       "  background-color: var(--sklearn-color-unfitted-level-2);\n",
       "}\n",
       "\n",
       "#sk-container-id-1 div.sk-label.fitted input.sk-toggleable__control:checked~label.sk-toggleable__label {\n",
       "  background-color: var(--sklearn-color-fitted-level-2);\n",
       "}\n",
       "\n",
       "/* Estimator-specific style */\n",
       "\n",
       "/* Colorize estimator box */\n",
       "#sk-container-id-1 div.sk-estimator input.sk-toggleable__control:checked~label.sk-toggleable__label {\n",
       "  /* unfitted */\n",
       "  background-color: var(--sklearn-color-unfitted-level-2);\n",
       "}\n",
       "\n",
       "#sk-container-id-1 div.sk-estimator.fitted input.sk-toggleable__control:checked~label.sk-toggleable__label {\n",
       "  /* fitted */\n",
       "  background-color: var(--sklearn-color-fitted-level-2);\n",
       "}\n",
       "\n",
       "#sk-container-id-1 div.sk-label label.sk-toggleable__label,\n",
       "#sk-container-id-1 div.sk-label label {\n",
       "  /* The background is the default theme color */\n",
       "  color: var(--sklearn-color-text-on-default-background);\n",
       "}\n",
       "\n",
       "/* On hover, darken the color of the background */\n",
       "#sk-container-id-1 div.sk-label:hover label.sk-toggleable__label {\n",
       "  color: var(--sklearn-color-text);\n",
       "  background-color: var(--sklearn-color-unfitted-level-2);\n",
       "}\n",
       "\n",
       "/* Label box, darken color on hover, fitted */\n",
       "#sk-container-id-1 div.sk-label.fitted:hover label.sk-toggleable__label.fitted {\n",
       "  color: var(--sklearn-color-text);\n",
       "  background-color: var(--sklearn-color-fitted-level-2);\n",
       "}\n",
       "\n",
       "/* Estimator label */\n",
       "\n",
       "#sk-container-id-1 div.sk-label label {\n",
       "  font-family: monospace;\n",
       "  font-weight: bold;\n",
       "  display: inline-block;\n",
       "  line-height: 1.2em;\n",
       "}\n",
       "\n",
       "#sk-container-id-1 div.sk-label-container {\n",
       "  text-align: center;\n",
       "}\n",
       "\n",
       "/* Estimator-specific */\n",
       "#sk-container-id-1 div.sk-estimator {\n",
       "  font-family: monospace;\n",
       "  border: 1px dotted var(--sklearn-color-border-box);\n",
       "  border-radius: 0.25em;\n",
       "  box-sizing: border-box;\n",
       "  margin-bottom: 0.5em;\n",
       "  /* unfitted */\n",
       "  background-color: var(--sklearn-color-unfitted-level-0);\n",
       "}\n",
       "\n",
       "#sk-container-id-1 div.sk-estimator.fitted {\n",
       "  /* fitted */\n",
       "  background-color: var(--sklearn-color-fitted-level-0);\n",
       "}\n",
       "\n",
       "/* on hover */\n",
       "#sk-container-id-1 div.sk-estimator:hover {\n",
       "  /* unfitted */\n",
       "  background-color: var(--sklearn-color-unfitted-level-2);\n",
       "}\n",
       "\n",
       "#sk-container-id-1 div.sk-estimator.fitted:hover {\n",
       "  /* fitted */\n",
       "  background-color: var(--sklearn-color-fitted-level-2);\n",
       "}\n",
       "\n",
       "/* Specification for estimator info (e.g. \"i\" and \"?\") */\n",
       "\n",
       "/* Common style for \"i\" and \"?\" */\n",
       "\n",
       ".sk-estimator-doc-link,\n",
       "a:link.sk-estimator-doc-link,\n",
       "a:visited.sk-estimator-doc-link {\n",
       "  float: right;\n",
       "  font-size: smaller;\n",
       "  line-height: 1em;\n",
       "  font-family: monospace;\n",
       "  background-color: var(--sklearn-color-background);\n",
       "  border-radius: 1em;\n",
       "  height: 1em;\n",
       "  width: 1em;\n",
       "  text-decoration: none !important;\n",
       "  margin-left: 1ex;\n",
       "  /* unfitted */\n",
       "  border: var(--sklearn-color-unfitted-level-1) 1pt solid;\n",
       "  color: var(--sklearn-color-unfitted-level-1);\n",
       "}\n",
       "\n",
       ".sk-estimator-doc-link.fitted,\n",
       "a:link.sk-estimator-doc-link.fitted,\n",
       "a:visited.sk-estimator-doc-link.fitted {\n",
       "  /* fitted */\n",
       "  border: var(--sklearn-color-fitted-level-1) 1pt solid;\n",
       "  color: var(--sklearn-color-fitted-level-1);\n",
       "}\n",
       "\n",
       "/* On hover */\n",
       "div.sk-estimator:hover .sk-estimator-doc-link:hover,\n",
       ".sk-estimator-doc-link:hover,\n",
       "div.sk-label-container:hover .sk-estimator-doc-link:hover,\n",
       ".sk-estimator-doc-link:hover {\n",
       "  /* unfitted */\n",
       "  background-color: var(--sklearn-color-unfitted-level-3);\n",
       "  color: var(--sklearn-color-background);\n",
       "  text-decoration: none;\n",
       "}\n",
       "\n",
       "div.sk-estimator.fitted:hover .sk-estimator-doc-link.fitted:hover,\n",
       ".sk-estimator-doc-link.fitted:hover,\n",
       "div.sk-label-container:hover .sk-estimator-doc-link.fitted:hover,\n",
       ".sk-estimator-doc-link.fitted:hover {\n",
       "  /* fitted */\n",
       "  background-color: var(--sklearn-color-fitted-level-3);\n",
       "  color: var(--sklearn-color-background);\n",
       "  text-decoration: none;\n",
       "}\n",
       "\n",
       "/* Span, style for the box shown on hovering the info icon */\n",
       ".sk-estimator-doc-link span {\n",
       "  display: none;\n",
       "  z-index: 9999;\n",
       "  position: relative;\n",
       "  font-weight: normal;\n",
       "  right: .2ex;\n",
       "  padding: .5ex;\n",
       "  margin: .5ex;\n",
       "  width: min-content;\n",
       "  min-width: 20ex;\n",
       "  max-width: 50ex;\n",
       "  color: var(--sklearn-color-text);\n",
       "  box-shadow: 2pt 2pt 4pt #999;\n",
       "  /* unfitted */\n",
       "  background: var(--sklearn-color-unfitted-level-0);\n",
       "  border: .5pt solid var(--sklearn-color-unfitted-level-3);\n",
       "}\n",
       "\n",
       ".sk-estimator-doc-link.fitted span {\n",
       "  /* fitted */\n",
       "  background: var(--sklearn-color-fitted-level-0);\n",
       "  border: var(--sklearn-color-fitted-level-3);\n",
       "}\n",
       "\n",
       ".sk-estimator-doc-link:hover span {\n",
       "  display: block;\n",
       "}\n",
       "\n",
       "/* \"?\"-specific style due to the `<a>` HTML tag */\n",
       "\n",
       "#sk-container-id-1 a.estimator_doc_link {\n",
       "  float: right;\n",
       "  font-size: 1rem;\n",
       "  line-height: 1em;\n",
       "  font-family: monospace;\n",
       "  background-color: var(--sklearn-color-background);\n",
       "  border-radius: 1rem;\n",
       "  height: 1rem;\n",
       "  width: 1rem;\n",
       "  text-decoration: none;\n",
       "  /* unfitted */\n",
       "  color: var(--sklearn-color-unfitted-level-1);\n",
       "  border: var(--sklearn-color-unfitted-level-1) 1pt solid;\n",
       "}\n",
       "\n",
       "#sk-container-id-1 a.estimator_doc_link.fitted {\n",
       "  /* fitted */\n",
       "  border: var(--sklearn-color-fitted-level-1) 1pt solid;\n",
       "  color: var(--sklearn-color-fitted-level-1);\n",
       "}\n",
       "\n",
       "/* On hover */\n",
       "#sk-container-id-1 a.estimator_doc_link:hover {\n",
       "  /* unfitted */\n",
       "  background-color: var(--sklearn-color-unfitted-level-3);\n",
       "  color: var(--sklearn-color-background);\n",
       "  text-decoration: none;\n",
       "}\n",
       "\n",
       "#sk-container-id-1 a.estimator_doc_link.fitted:hover {\n",
       "  /* fitted */\n",
       "  background-color: var(--sklearn-color-fitted-level-3);\n",
       "}\n",
       "</style><div id=\"sk-container-id-1\" class=\"sk-top-container\"><div class=\"sk-text-repr-fallback\"><pre>LogisticRegression(max_iter=1000, random_state=42, solver=&#x27;liblinear&#x27;)</pre><b>In a Jupyter environment, please rerun this cell to show the HTML representation or trust the notebook. <br />On GitHub, the HTML representation is unable to render, please try loading this page with nbviewer.org.</b></div><div class=\"sk-container\" hidden><div class=\"sk-item\"><div class=\"sk-estimator fitted sk-toggleable\"><input class=\"sk-toggleable__control sk-hidden--visually\" id=\"sk-estimator-id-1\" type=\"checkbox\" checked><label for=\"sk-estimator-id-1\" class=\"sk-toggleable__label fitted sk-toggleable__label-arrow fitted\">&nbsp;&nbsp;LogisticRegression<a class=\"sk-estimator-doc-link fitted\" rel=\"noreferrer\" target=\"_blank\" href=\"https://scikit-learn.org/1.4/modules/generated/sklearn.linear_model.LogisticRegression.html\">?<span>Documentation for LogisticRegression</span></a><span class=\"sk-estimator-doc-link fitted\">i<span>Fitted</span></span></label><div class=\"sk-toggleable__content fitted\"><pre>LogisticRegression(max_iter=1000, random_state=42, solver=&#x27;liblinear&#x27;)</pre></div> </div></div></div></div>"
      ],
      "text/plain": [
       "LogisticRegression(max_iter=1000, random_state=42, solver='liblinear')"
      ]
     },
     "execution_count": 120,
     "metadata": {},
     "output_type": "execute_result"
    }
   ],
   "source": [
    "model.fit(X_train,y_train)"
   ]
  },
  {
   "cell_type": "code",
   "execution_count": 122,
   "id": "276de3df-421f-40b6-9a74-c591ee3a2c33",
   "metadata": {},
   "outputs": [
    {
     "data": {
      "text/plain": [
       "-0.7668669010421106"
      ]
     },
     "execution_count": 122,
     "metadata": {},
     "output_type": "execute_result"
    }
   ],
   "source": [
    "model.intercept_[0]"
   ]
  },
  {
   "cell_type": "code",
   "execution_count": 124,
   "id": "0e58b3ac-e443-49d9-ad62-55fdef11c81d",
   "metadata": {},
   "outputs": [
    {
     "data": {
      "text/plain": [
       "array([ 0.000e+00,  0.000e+00, -8.100e-02,  3.250e-01,  1.390e-01,\n",
       "       -1.230e+00,  9.000e-03, -4.640e-01, -3.030e-01,  4.000e-03,\n",
       "       -3.800e-01, -1.830e-01, -1.000e-03, -2.040e-01, -2.800e-02,\n",
       "       -7.380e-01,  1.300e-01, -1.900e-01, -2.180e-01, -3.470e-01,\n",
       "       -6.100e-02,  2.540e-01, -2.690e-01, -8.300e-02,  3.050e-01,\n",
       "       -1.240e-01,  3.500e-02, -1.980e-01, -1.510e-01, -6.160e-01,\n",
       "       -2.710e-01, -3.990e-01, -9.800e-02, -2.000e-03, -7.080e-01,\n",
       "        4.220e-01, -2.930e-01, -1.217e+00, -9.390e-01,  3.140e-01,\n",
       "        1.498e+00, -5.040e-01, -9.190e-01,  7.730e-01,  8.070e-01,\n",
       "       -0.000e+00, -7.500e-01, -5.450e-01,  1.499e+00, -9.710e-01,\n",
       "        8.000e-03])"
      ]
     },
     "execution_count": 124,
     "metadata": {},
     "output_type": "execute_result"
    }
   ],
   "source": [
    "model.coef_[0].round(3)"
   ]
  },
  {
   "cell_type": "code",
   "execution_count": 126,
   "id": "8bca006b-ae20-481d-a1e4-b08f67332808",
   "metadata": {},
   "outputs": [],
   "source": [
    "y_pred = model.predict_proba(X_val)[:, 1]"
   ]
  },
  {
   "cell_type": "code",
   "execution_count": 128,
   "id": "cf3d8e4a-4bf5-4937-9d01-f410f1a0afc6",
   "metadata": {},
   "outputs": [],
   "source": [
    "y_decision = (y_pred >= 0.5)"
   ]
  },
  {
   "cell_type": "code",
   "execution_count": 130,
   "id": "03cf1e04-5f14-4535-a187-6a18ef1a42f6",
   "metadata": {},
   "outputs": [
    {
     "data": {
      "text/plain": [
       "0.900353904003539"
      ]
     },
     "execution_count": 130,
     "metadata": {},
     "output_type": "execute_result"
    }
   ],
   "source": [
    "(y_val == y_decision).mean()"
   ]
  },
  {
   "cell_type": "markdown",
   "id": "21068817-569f-4a4b-963c-21a35db6b3f6",
   "metadata": {},
   "source": [
    "## Question 5\r\n",
    "\r\n",
    "Let's find the least useful feature using the feature elimination technique.  \r\n",
    "Train a model with all these features (using the same parameters as in Q4).  \r\n",
    "Now exclude each feature from this set and train a model without it. Record the accuracy for each model.  \r\n",
    "For each feature, calculate the difference between the original accuracy and the accuracy without the feature.\r\n",
    "\r\n",
    "Which of the following features has the smallest difference?\r\n",
    "\r\n",
    "- age\r\n",
    "- balance\r\n",
    "- marital\r\n",
    "- previous\r\n",
    "\r\n",
    "*Note: The difference doesn't have to be positive.*\r\n"
   ]
  },
  {
   "cell_type": "code",
   "execution_count": 189,
   "id": "d4969e23-945b-4671-9ba4-f7f298293838",
   "metadata": {},
   "outputs": [],
   "source": [
    "from IPython.display import display"
   ]
  },
  {
   "cell_type": "code",
   "execution_count": 197,
   "id": "e30a5eb3-f67b-4c32-8e6f-986f1a63028a",
   "metadata": {},
   "outputs": [],
   "source": [
    "global_y = df_full_train.y.mean()"
   ]
  },
  {
   "cell_type": "code",
   "execution_count": 199,
   "id": "7879c776-e074-4a8b-aa35-6afc59f2586e",
   "metadata": {},
   "outputs": [
    {
     "name": "stdout",
     "output_type": "stream",
     "text": [
      "job\n"
     ]
    },
    {
     "data": {
      "text/html": [
       "<div>\n",
       "<style scoped>\n",
       "    .dataframe tbody tr th:only-of-type {\n",
       "        vertical-align: middle;\n",
       "    }\n",
       "\n",
       "    .dataframe tbody tr th {\n",
       "        vertical-align: top;\n",
       "    }\n",
       "\n",
       "    .dataframe thead th {\n",
       "        text-align: right;\n",
       "    }\n",
       "</style>\n",
       "<table border=\"1\" class=\"dataframe\">\n",
       "  <thead>\n",
       "    <tr style=\"text-align: right;\">\n",
       "      <th></th>\n",
       "      <th>mean</th>\n",
       "      <th>count</th>\n",
       "      <th>diff</th>\n",
       "      <th>risk</th>\n",
       "    </tr>\n",
       "    <tr>\n",
       "      <th>job</th>\n",
       "      <th></th>\n",
       "      <th></th>\n",
       "      <th></th>\n",
       "      <th></th>\n",
       "    </tr>\n",
       "  </thead>\n",
       "  <tbody>\n",
       "    <tr>\n",
       "      <th>admin.</th>\n",
       "      <td>0.119894</td>\n",
       "      <td>4137</td>\n",
       "      <td>0.003824</td>\n",
       "      <td>1.032947</td>\n",
       "    </tr>\n",
       "    <tr>\n",
       "      <th>blue-collar</th>\n",
       "      <td>0.072252</td>\n",
       "      <td>7806</td>\n",
       "      <td>-0.043817</td>\n",
       "      <td>0.622490</td>\n",
       "    </tr>\n",
       "    <tr>\n",
       "      <th>entrepreneur</th>\n",
       "      <td>0.086587</td>\n",
       "      <td>1178</td>\n",
       "      <td>-0.029482</td>\n",
       "      <td>0.745997</td>\n",
       "    </tr>\n",
       "    <tr>\n",
       "      <th>housemaid</th>\n",
       "      <td>0.093812</td>\n",
       "      <td>1002</td>\n",
       "      <td>-0.022257</td>\n",
       "      <td>0.808243</td>\n",
       "    </tr>\n",
       "    <tr>\n",
       "      <th>management</th>\n",
       "      <td>0.135467</td>\n",
       "      <td>7500</td>\n",
       "      <td>0.019397</td>\n",
       "      <td>1.167117</td>\n",
       "    </tr>\n",
       "    <tr>\n",
       "      <th>retired</th>\n",
       "      <td>0.222590</td>\n",
       "      <td>1815</td>\n",
       "      <td>0.106520</td>\n",
       "      <td>1.917727</td>\n",
       "    </tr>\n",
       "    <tr>\n",
       "      <th>self-employed</th>\n",
       "      <td>0.122862</td>\n",
       "      <td>1286</td>\n",
       "      <td>0.006792</td>\n",
       "      <td>1.058518</td>\n",
       "    </tr>\n",
       "    <tr>\n",
       "      <th>services</th>\n",
       "      <td>0.090746</td>\n",
       "      <td>3350</td>\n",
       "      <td>-0.025323</td>\n",
       "      <td>0.781827</td>\n",
       "    </tr>\n",
       "    <tr>\n",
       "      <th>student</th>\n",
       "      <td>0.278976</td>\n",
       "      <td>742</td>\n",
       "      <td>0.162906</td>\n",
       "      <td>2.403524</td>\n",
       "    </tr>\n",
       "    <tr>\n",
       "      <th>technician</th>\n",
       "      <td>0.108760</td>\n",
       "      <td>6096</td>\n",
       "      <td>-0.007310</td>\n",
       "      <td>0.937024</td>\n",
       "    </tr>\n",
       "    <tr>\n",
       "      <th>unemployed</th>\n",
       "      <td>0.160313</td>\n",
       "      <td>1023</td>\n",
       "      <td>0.044243</td>\n",
       "      <td>1.381180</td>\n",
       "    </tr>\n",
       "    <tr>\n",
       "      <th>unknown</th>\n",
       "      <td>0.111588</td>\n",
       "      <td>233</td>\n",
       "      <td>-0.004481</td>\n",
       "      <td>0.961390</td>\n",
       "    </tr>\n",
       "  </tbody>\n",
       "</table>\n",
       "</div>"
      ],
      "text/plain": [
       "                   mean  count      diff      risk\n",
       "job                                               \n",
       "admin.         0.119894   4137  0.003824  1.032947\n",
       "blue-collar    0.072252   7806 -0.043817  0.622490\n",
       "entrepreneur   0.086587   1178 -0.029482  0.745997\n",
       "housemaid      0.093812   1002 -0.022257  0.808243\n",
       "management     0.135467   7500  0.019397  1.167117\n",
       "retired        0.222590   1815  0.106520  1.917727\n",
       "self-employed  0.122862   1286  0.006792  1.058518\n",
       "services       0.090746   3350 -0.025323  0.781827\n",
       "student        0.278976    742  0.162906  2.403524\n",
       "technician     0.108760   6096 -0.007310  0.937024\n",
       "unemployed     0.160313   1023  0.044243  1.381180\n",
       "unknown        0.111588    233 -0.004481  0.961390"
      ]
     },
     "metadata": {},
     "output_type": "display_data"
    },
    {
     "name": "stdout",
     "output_type": "stream",
     "text": [
      "\n",
      "\n",
      "marital\n"
     ]
    },
    {
     "data": {
      "text/html": [
       "<div>\n",
       "<style scoped>\n",
       "    .dataframe tbody tr th:only-of-type {\n",
       "        vertical-align: middle;\n",
       "    }\n",
       "\n",
       "    .dataframe tbody tr th {\n",
       "        vertical-align: top;\n",
       "    }\n",
       "\n",
       "    .dataframe thead th {\n",
       "        text-align: right;\n",
       "    }\n",
       "</style>\n",
       "<table border=\"1\" class=\"dataframe\">\n",
       "  <thead>\n",
       "    <tr style=\"text-align: right;\">\n",
       "      <th></th>\n",
       "      <th>mean</th>\n",
       "      <th>count</th>\n",
       "      <th>diff</th>\n",
       "      <th>risk</th>\n",
       "    </tr>\n",
       "    <tr>\n",
       "      <th>marital</th>\n",
       "      <th></th>\n",
       "      <th></th>\n",
       "      <th></th>\n",
       "      <th></th>\n",
       "    </tr>\n",
       "  </thead>\n",
       "  <tbody>\n",
       "    <tr>\n",
       "      <th>divorced</th>\n",
       "      <td>0.119720</td>\n",
       "      <td>4143</td>\n",
       "      <td>0.003651</td>\n",
       "      <td>1.031451</td>\n",
       "    </tr>\n",
       "    <tr>\n",
       "      <th>married</th>\n",
       "      <td>0.100578</td>\n",
       "      <td>21804</td>\n",
       "      <td>-0.015492</td>\n",
       "      <td>0.866532</td>\n",
       "    </tr>\n",
       "    <tr>\n",
       "      <th>single</th>\n",
       "      <td>0.147637</td>\n",
       "      <td>10221</td>\n",
       "      <td>0.031568</td>\n",
       "      <td>1.271973</td>\n",
       "    </tr>\n",
       "  </tbody>\n",
       "</table>\n",
       "</div>"
      ],
      "text/plain": [
       "              mean  count      diff      risk\n",
       "marital                                      \n",
       "divorced  0.119720   4143  0.003651  1.031451\n",
       "married   0.100578  21804 -0.015492  0.866532\n",
       "single    0.147637  10221  0.031568  1.271973"
      ]
     },
     "metadata": {},
     "output_type": "display_data"
    },
    {
     "name": "stdout",
     "output_type": "stream",
     "text": [
      "\n",
      "\n",
      "education\n"
     ]
    },
    {
     "data": {
      "text/html": [
       "<div>\n",
       "<style scoped>\n",
       "    .dataframe tbody tr th:only-of-type {\n",
       "        vertical-align: middle;\n",
       "    }\n",
       "\n",
       "    .dataframe tbody tr th {\n",
       "        vertical-align: top;\n",
       "    }\n",
       "\n",
       "    .dataframe thead th {\n",
       "        text-align: right;\n",
       "    }\n",
       "</style>\n",
       "<table border=\"1\" class=\"dataframe\">\n",
       "  <thead>\n",
       "    <tr style=\"text-align: right;\">\n",
       "      <th></th>\n",
       "      <th>mean</th>\n",
       "      <th>count</th>\n",
       "      <th>diff</th>\n",
       "      <th>risk</th>\n",
       "    </tr>\n",
       "    <tr>\n",
       "      <th>education</th>\n",
       "      <th></th>\n",
       "      <th></th>\n",
       "      <th></th>\n",
       "      <th></th>\n",
       "    </tr>\n",
       "  </thead>\n",
       "  <tbody>\n",
       "    <tr>\n",
       "      <th>primary</th>\n",
       "      <td>0.086377</td>\n",
       "      <td>5476</td>\n",
       "      <td>-0.029693</td>\n",
       "      <td>0.744183</td>\n",
       "    </tr>\n",
       "    <tr>\n",
       "      <th>secondary</th>\n",
       "      <td>0.105303</td>\n",
       "      <td>18670</td>\n",
       "      <td>-0.010767</td>\n",
       "      <td>0.907238</td>\n",
       "    </tr>\n",
       "    <tr>\n",
       "      <th>tertiary</th>\n",
       "      <td>0.148970</td>\n",
       "      <td>10539</td>\n",
       "      <td>0.032901</td>\n",
       "      <td>1.283460</td>\n",
       "    </tr>\n",
       "    <tr>\n",
       "      <th>unknown</th>\n",
       "      <td>0.127444</td>\n",
       "      <td>1483</td>\n",
       "      <td>0.011375</td>\n",
       "      <td>1.098001</td>\n",
       "    </tr>\n",
       "  </tbody>\n",
       "</table>\n",
       "</div>"
      ],
      "text/plain": [
       "               mean  count      diff      risk\n",
       "education                                     \n",
       "primary    0.086377   5476 -0.029693  0.744183\n",
       "secondary  0.105303  18670 -0.010767  0.907238\n",
       "tertiary   0.148970  10539  0.032901  1.283460\n",
       "unknown    0.127444   1483  0.011375  1.098001"
      ]
     },
     "metadata": {},
     "output_type": "display_data"
    },
    {
     "name": "stdout",
     "output_type": "stream",
     "text": [
      "\n",
      "\n",
      "default\n"
     ]
    },
    {
     "data": {
      "text/html": [
       "<div>\n",
       "<style scoped>\n",
       "    .dataframe tbody tr th:only-of-type {\n",
       "        vertical-align: middle;\n",
       "    }\n",
       "\n",
       "    .dataframe tbody tr th {\n",
       "        vertical-align: top;\n",
       "    }\n",
       "\n",
       "    .dataframe thead th {\n",
       "        text-align: right;\n",
       "    }\n",
       "</style>\n",
       "<table border=\"1\" class=\"dataframe\">\n",
       "  <thead>\n",
       "    <tr style=\"text-align: right;\">\n",
       "      <th></th>\n",
       "      <th>mean</th>\n",
       "      <th>count</th>\n",
       "      <th>diff</th>\n",
       "      <th>risk</th>\n",
       "    </tr>\n",
       "    <tr>\n",
       "      <th>default</th>\n",
       "      <th></th>\n",
       "      <th></th>\n",
       "      <th></th>\n",
       "      <th></th>\n",
       "    </tr>\n",
       "  </thead>\n",
       "  <tbody>\n",
       "    <tr>\n",
       "      <th>no</th>\n",
       "      <td>0.117128</td>\n",
       "      <td>35491</td>\n",
       "      <td>0.001059</td>\n",
       "      <td>1.009122</td>\n",
       "    </tr>\n",
       "    <tr>\n",
       "      <th>yes</th>\n",
       "      <td>0.060561</td>\n",
       "      <td>677</td>\n",
       "      <td>-0.055508</td>\n",
       "      <td>0.521768</td>\n",
       "    </tr>\n",
       "  </tbody>\n",
       "</table>\n",
       "</div>"
      ],
      "text/plain": [
       "             mean  count      diff      risk\n",
       "default                                     \n",
       "no       0.117128  35491  0.001059  1.009122\n",
       "yes      0.060561    677 -0.055508  0.521768"
      ]
     },
     "metadata": {},
     "output_type": "display_data"
    },
    {
     "name": "stdout",
     "output_type": "stream",
     "text": [
      "\n",
      "\n",
      "housing\n"
     ]
    },
    {
     "data": {
      "text/html": [
       "<div>\n",
       "<style scoped>\n",
       "    .dataframe tbody tr th:only-of-type {\n",
       "        vertical-align: middle;\n",
       "    }\n",
       "\n",
       "    .dataframe tbody tr th {\n",
       "        vertical-align: top;\n",
       "    }\n",
       "\n",
       "    .dataframe thead th {\n",
       "        text-align: right;\n",
       "    }\n",
       "</style>\n",
       "<table border=\"1\" class=\"dataframe\">\n",
       "  <thead>\n",
       "    <tr style=\"text-align: right;\">\n",
       "      <th></th>\n",
       "      <th>mean</th>\n",
       "      <th>count</th>\n",
       "      <th>diff</th>\n",
       "      <th>risk</th>\n",
       "    </tr>\n",
       "    <tr>\n",
       "      <th>housing</th>\n",
       "      <th></th>\n",
       "      <th></th>\n",
       "      <th></th>\n",
       "      <th></th>\n",
       "    </tr>\n",
       "  </thead>\n",
       "  <tbody>\n",
       "    <tr>\n",
       "      <th>no</th>\n",
       "      <td>0.166407</td>\n",
       "      <td>16033</td>\n",
       "      <td>0.050337</td>\n",
       "      <td>1.433683</td>\n",
       "    </tr>\n",
       "    <tr>\n",
       "      <th>yes</th>\n",
       "      <td>0.075987</td>\n",
       "      <td>20135</td>\n",
       "      <td>-0.040082</td>\n",
       "      <td>0.654669</td>\n",
       "    </tr>\n",
       "  </tbody>\n",
       "</table>\n",
       "</div>"
      ],
      "text/plain": [
       "             mean  count      diff      risk\n",
       "housing                                     \n",
       "no       0.166407  16033  0.050337  1.433683\n",
       "yes      0.075987  20135 -0.040082  0.654669"
      ]
     },
     "metadata": {},
     "output_type": "display_data"
    },
    {
     "name": "stdout",
     "output_type": "stream",
     "text": [
      "\n",
      "\n",
      "loan\n"
     ]
    },
    {
     "data": {
      "text/html": [
       "<div>\n",
       "<style scoped>\n",
       "    .dataframe tbody tr th:only-of-type {\n",
       "        vertical-align: middle;\n",
       "    }\n",
       "\n",
       "    .dataframe tbody tr th {\n",
       "        vertical-align: top;\n",
       "    }\n",
       "\n",
       "    .dataframe thead th {\n",
       "        text-align: right;\n",
       "    }\n",
       "</style>\n",
       "<table border=\"1\" class=\"dataframe\">\n",
       "  <thead>\n",
       "    <tr style=\"text-align: right;\">\n",
       "      <th></th>\n",
       "      <th>mean</th>\n",
       "      <th>count</th>\n",
       "      <th>diff</th>\n",
       "      <th>risk</th>\n",
       "    </tr>\n",
       "    <tr>\n",
       "      <th>loan</th>\n",
       "      <th></th>\n",
       "      <th></th>\n",
       "      <th></th>\n",
       "      <th></th>\n",
       "    </tr>\n",
       "  </thead>\n",
       "  <tbody>\n",
       "    <tr>\n",
       "      <th>no</th>\n",
       "      <td>0.125441</td>\n",
       "      <td>30333</td>\n",
       "      <td>0.009371</td>\n",
       "      <td>1.080740</td>\n",
       "    </tr>\n",
       "    <tr>\n",
       "      <th>yes</th>\n",
       "      <td>0.067352</td>\n",
       "      <td>5835</td>\n",
       "      <td>-0.048717</td>\n",
       "      <td>0.580275</td>\n",
       "    </tr>\n",
       "  </tbody>\n",
       "</table>\n",
       "</div>"
      ],
      "text/plain": [
       "          mean  count      diff      risk\n",
       "loan                                     \n",
       "no    0.125441  30333  0.009371  1.080740\n",
       "yes   0.067352   5835 -0.048717  0.580275"
      ]
     },
     "metadata": {},
     "output_type": "display_data"
    },
    {
     "name": "stdout",
     "output_type": "stream",
     "text": [
      "\n",
      "\n",
      "contact\n"
     ]
    },
    {
     "data": {
      "text/html": [
       "<div>\n",
       "<style scoped>\n",
       "    .dataframe tbody tr th:only-of-type {\n",
       "        vertical-align: middle;\n",
       "    }\n",
       "\n",
       "    .dataframe tbody tr th {\n",
       "        vertical-align: top;\n",
       "    }\n",
       "\n",
       "    .dataframe thead th {\n",
       "        text-align: right;\n",
       "    }\n",
       "</style>\n",
       "<table border=\"1\" class=\"dataframe\">\n",
       "  <thead>\n",
       "    <tr style=\"text-align: right;\">\n",
       "      <th></th>\n",
       "      <th>mean</th>\n",
       "      <th>count</th>\n",
       "      <th>diff</th>\n",
       "      <th>risk</th>\n",
       "    </tr>\n",
       "    <tr>\n",
       "      <th>contact</th>\n",
       "      <th></th>\n",
       "      <th></th>\n",
       "      <th></th>\n",
       "      <th></th>\n",
       "    </tr>\n",
       "  </thead>\n",
       "  <tbody>\n",
       "    <tr>\n",
       "      <th>cellular</th>\n",
       "      <td>0.148270</td>\n",
       "      <td>23464</td>\n",
       "      <td>0.032200</td>\n",
       "      <td>1.277422</td>\n",
       "    </tr>\n",
       "    <tr>\n",
       "      <th>telephone</th>\n",
       "      <td>0.137128</td>\n",
       "      <td>2319</td>\n",
       "      <td>0.021059</td>\n",
       "      <td>1.181431</td>\n",
       "    </tr>\n",
       "    <tr>\n",
       "      <th>unknown</th>\n",
       "      <td>0.038613</td>\n",
       "      <td>10385</td>\n",
       "      <td>-0.077456</td>\n",
       "      <td>0.332675</td>\n",
       "    </tr>\n",
       "  </tbody>\n",
       "</table>\n",
       "</div>"
      ],
      "text/plain": [
       "               mean  count      diff      risk\n",
       "contact                                       \n",
       "cellular   0.148270  23464  0.032200  1.277422\n",
       "telephone  0.137128   2319  0.021059  1.181431\n",
       "unknown    0.038613  10385 -0.077456  0.332675"
      ]
     },
     "metadata": {},
     "output_type": "display_data"
    },
    {
     "name": "stdout",
     "output_type": "stream",
     "text": [
      "\n",
      "\n",
      "month\n"
     ]
    },
    {
     "data": {
      "text/html": [
       "<div>\n",
       "<style scoped>\n",
       "    .dataframe tbody tr th:only-of-type {\n",
       "        vertical-align: middle;\n",
       "    }\n",
       "\n",
       "    .dataframe tbody tr th {\n",
       "        vertical-align: top;\n",
       "    }\n",
       "\n",
       "    .dataframe thead th {\n",
       "        text-align: right;\n",
       "    }\n",
       "</style>\n",
       "<table border=\"1\" class=\"dataframe\">\n",
       "  <thead>\n",
       "    <tr style=\"text-align: right;\">\n",
       "      <th></th>\n",
       "      <th>mean</th>\n",
       "      <th>count</th>\n",
       "      <th>diff</th>\n",
       "      <th>risk</th>\n",
       "    </tr>\n",
       "    <tr>\n",
       "      <th>month</th>\n",
       "      <th></th>\n",
       "      <th></th>\n",
       "      <th></th>\n",
       "      <th></th>\n",
       "    </tr>\n",
       "  </thead>\n",
       "  <tbody>\n",
       "    <tr>\n",
       "      <th>apr</th>\n",
       "      <td>0.202645</td>\n",
       "      <td>2344</td>\n",
       "      <td>0.086576</td>\n",
       "      <td>1.745895</td>\n",
       "    </tr>\n",
       "    <tr>\n",
       "      <th>aug</th>\n",
       "      <td>0.110954</td>\n",
       "      <td>4966</td>\n",
       "      <td>-0.005115</td>\n",
       "      <td>0.955932</td>\n",
       "    </tr>\n",
       "    <tr>\n",
       "      <th>dec</th>\n",
       "      <td>0.464481</td>\n",
       "      <td>183</td>\n",
       "      <td>0.348411</td>\n",
       "      <td>4.001749</td>\n",
       "    </tr>\n",
       "    <tr>\n",
       "      <th>feb</th>\n",
       "      <td>0.156723</td>\n",
       "      <td>2112</td>\n",
       "      <td>0.040654</td>\n",
       "      <td>1.350256</td>\n",
       "    </tr>\n",
       "    <tr>\n",
       "      <th>jan</th>\n",
       "      <td>0.098678</td>\n",
       "      <td>1135</td>\n",
       "      <td>-0.017391</td>\n",
       "      <td>0.850167</td>\n",
       "    </tr>\n",
       "    <tr>\n",
       "      <th>jul</th>\n",
       "      <td>0.091927</td>\n",
       "      <td>5537</td>\n",
       "      <td>-0.024142</td>\n",
       "      <td>0.792000</td>\n",
       "    </tr>\n",
       "    <tr>\n",
       "      <th>jun</th>\n",
       "      <td>0.098888</td>\n",
       "      <td>4318</td>\n",
       "      <td>-0.017181</td>\n",
       "      <td>0.851976</td>\n",
       "    </tr>\n",
       "    <tr>\n",
       "      <th>mar</th>\n",
       "      <td>0.516043</td>\n",
       "      <td>374</td>\n",
       "      <td>0.399973</td>\n",
       "      <td>4.445983</td>\n",
       "    </tr>\n",
       "    <tr>\n",
       "      <th>may</th>\n",
       "      <td>0.065219</td>\n",
       "      <td>10963</td>\n",
       "      <td>-0.050850</td>\n",
       "      <td>0.561900</td>\n",
       "    </tr>\n",
       "    <tr>\n",
       "      <th>nov</th>\n",
       "      <td>0.101481</td>\n",
       "      <td>3173</td>\n",
       "      <td>-0.014588</td>\n",
       "      <td>0.874315</td>\n",
       "    </tr>\n",
       "    <tr>\n",
       "      <th>oct</th>\n",
       "      <td>0.437396</td>\n",
       "      <td>599</td>\n",
       "      <td>0.321326</td>\n",
       "      <td>3.768396</td>\n",
       "    </tr>\n",
       "    <tr>\n",
       "      <th>sep</th>\n",
       "      <td>0.465517</td>\n",
       "      <td>464</td>\n",
       "      <td>0.349448</td>\n",
       "      <td>4.010678</td>\n",
       "    </tr>\n",
       "  </tbody>\n",
       "</table>\n",
       "</div>"
      ],
      "text/plain": [
       "           mean  count      diff      risk\n",
       "month                                     \n",
       "apr    0.202645   2344  0.086576  1.745895\n",
       "aug    0.110954   4966 -0.005115  0.955932\n",
       "dec    0.464481    183  0.348411  4.001749\n",
       "feb    0.156723   2112  0.040654  1.350256\n",
       "jan    0.098678   1135 -0.017391  0.850167\n",
       "jul    0.091927   5537 -0.024142  0.792000\n",
       "jun    0.098888   4318 -0.017181  0.851976\n",
       "mar    0.516043    374  0.399973  4.445983\n",
       "may    0.065219  10963 -0.050850  0.561900\n",
       "nov    0.101481   3173 -0.014588  0.874315\n",
       "oct    0.437396    599  0.321326  3.768396\n",
       "sep    0.465517    464  0.349448  4.010678"
      ]
     },
     "metadata": {},
     "output_type": "display_data"
    },
    {
     "name": "stdout",
     "output_type": "stream",
     "text": [
      "\n",
      "\n",
      "poutcome\n"
     ]
    },
    {
     "data": {
      "text/html": [
       "<div>\n",
       "<style scoped>\n",
       "    .dataframe tbody tr th:only-of-type {\n",
       "        vertical-align: middle;\n",
       "    }\n",
       "\n",
       "    .dataframe tbody tr th {\n",
       "        vertical-align: top;\n",
       "    }\n",
       "\n",
       "    .dataframe thead th {\n",
       "        text-align: right;\n",
       "    }\n",
       "</style>\n",
       "<table border=\"1\" class=\"dataframe\">\n",
       "  <thead>\n",
       "    <tr style=\"text-align: right;\">\n",
       "      <th></th>\n",
       "      <th>mean</th>\n",
       "      <th>count</th>\n",
       "      <th>diff</th>\n",
       "      <th>risk</th>\n",
       "    </tr>\n",
       "    <tr>\n",
       "      <th>poutcome</th>\n",
       "      <th></th>\n",
       "      <th></th>\n",
       "      <th></th>\n",
       "      <th></th>\n",
       "    </tr>\n",
       "  </thead>\n",
       "  <tbody>\n",
       "    <tr>\n",
       "      <th>failure</th>\n",
       "      <td>0.126891</td>\n",
       "      <td>3901</td>\n",
       "      <td>0.010821</td>\n",
       "      <td>1.093229</td>\n",
       "    </tr>\n",
       "    <tr>\n",
       "      <th>other</th>\n",
       "      <td>0.170341</td>\n",
       "      <td>1497</td>\n",
       "      <td>0.054271</td>\n",
       "      <td>1.467575</td>\n",
       "    </tr>\n",
       "    <tr>\n",
       "      <th>success</th>\n",
       "      <td>0.641322</td>\n",
       "      <td>1210</td>\n",
       "      <td>0.525253</td>\n",
       "      <td>5.525332</td>\n",
       "    </tr>\n",
       "    <tr>\n",
       "      <th>unknown</th>\n",
       "      <td>0.090392</td>\n",
       "      <td>29560</td>\n",
       "      <td>-0.025677</td>\n",
       "      <td>0.778779</td>\n",
       "    </tr>\n",
       "  </tbody>\n",
       "</table>\n",
       "</div>"
      ],
      "text/plain": [
       "              mean  count      diff      risk\n",
       "poutcome                                     \n",
       "failure   0.126891   3901  0.010821  1.093229\n",
       "other     0.170341   1497  0.054271  1.467575\n",
       "success   0.641322   1210  0.525253  5.525332\n",
       "unknown   0.090392  29560 -0.025677  0.778779"
      ]
     },
     "metadata": {},
     "output_type": "display_data"
    },
    {
     "name": "stdout",
     "output_type": "stream",
     "text": [
      "\n",
      "\n"
     ]
    }
   ],
   "source": [
    "for c in categorical_features:\n",
    "    print(c)\n",
    "    df_group = df_full_train.groupby(c).y.agg(['mean', 'count'])\n",
    "    df_group['diff'] = df_group['mean'] - global_y\n",
    "    df_group['risk'] = df_group['mean'] / global_y\n",
    "    display(df_group)\n",
    "    print()\n",
    "    print()"
   ]
  },
  {
   "cell_type": "code",
   "execution_count": null,
   "id": "32a8f7f1-427b-4937-8bdd-d4ae0f42e488",
   "metadata": {},
   "outputs": [],
   "source": []
  },
  {
   "cell_type": "code",
   "execution_count": null,
   "id": "9d3a33d2-1eef-4f86-9bbd-a332f93d154f",
   "metadata": {},
   "outputs": [],
   "source": []
  },
  {
   "cell_type": "code",
   "execution_count": null,
   "id": "6d5c0d53-596c-42dc-9485-57c5272390f6",
   "metadata": {},
   "outputs": [],
   "source": []
  },
  {
   "cell_type": "code",
   "execution_count": null,
   "id": "d2c90bdf-ca7a-4758-b8a7-98fca5064a19",
   "metadata": {},
   "outputs": [],
   "source": []
  },
  {
   "cell_type": "markdown",
   "id": "d8bdde7f-2a37-4604-b182-d4e6d6f25676",
   "metadata": {},
   "source": [
    "## Question 6\r\n",
    "\r\n",
    "Now let's train a regularized logistic regression.  \r\n",
    "Let's try the following values of the parameter `C`: \\[0.01, 0.1, 1, 10, 100\\].  \r\n",
    "Train models using all the features as in Q4.  \r\n",
    "Calculate the accuracy on the validation dataset and round it to 3 decimal digits.\r\n",
    "\r\n",
    "Which of these `C` leads to the best accuracy on the validation set?\r\n",
    "\r\n",
    "- 0.01\r\n",
    "- 0.1\r\n",
    "- 1\r\n",
    "- 10\r\n",
    "- 100\r\n",
    "\r\n",
    "*Note: If there are multiple options, select the smallest `C`.*\r\n"
   ]
  },
  {
   "cell_type": "code",
   "execution_count": null,
   "id": "14463d5f-0818-4120-9c4a-e53ec0b86980",
   "metadata": {},
   "outputs": [],
   "source": []
  },
  {
   "cell_type": "code",
   "execution_count": null,
   "id": "f6061fca-afa2-4b5d-89b8-618c835c6f5a",
   "metadata": {},
   "outputs": [],
   "source": []
  },
  {
   "cell_type": "code",
   "execution_count": null,
   "id": "d2468501-f9a2-405d-9dc5-3cc30d685b72",
   "metadata": {},
   "outputs": [],
   "source": []
  }
 ],
 "metadata": {
  "kernelspec": {
   "display_name": "Python 3 (ipykernel)",
   "language": "python",
   "name": "python3"
  },
  "language_info": {
   "codemirror_mode": {
    "name": "ipython",
    "version": 3
   },
   "file_extension": ".py",
   "mimetype": "text/x-python",
   "name": "python",
   "nbconvert_exporter": "python",
   "pygments_lexer": "ipython3",
   "version": "3.12.4"
  }
 },
 "nbformat": 4,
 "nbformat_minor": 5
}
